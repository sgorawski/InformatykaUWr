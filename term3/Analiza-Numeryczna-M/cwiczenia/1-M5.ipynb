{
 "cells": [
  {
   "cell_type": "markdown",
   "metadata": {},
   "source": [
    "# M5.6\n",
    "---\n",
    "**Task not completed**"
   ]
  },
  {
   "cell_type": "code",
   "execution_count": 2,
   "metadata": {
    "collapsed": false
   },
   "outputs": [],
   "source": [
    "using Polynomials"
   ]
  },
  {
   "cell_type": "markdown",
   "metadata": {},
   "source": [
    "Code for the Bairstow method taken from:\n",
    "http://nbviewer.jupyter.org/github/rnoxy/anum/blob/master/4%20-%20Finding%20roots%20of%20polynomials.ipynb"
   ]
  },
  {
   "cell_type": "code",
   "execution_count": 7,
   "metadata": {
    "collapsed": false
   },
   "outputs": [
    {
     "data": {
      "text/plain": [
       "Bairstow (generic function with 1 method)"
      ]
     },
     "execution_count": 7,
     "metadata": {},
     "output_type": "execute_result"
    }
   ],
   "source": [
    "function Bairstow(a; maxiter=10)    \n",
    "    \n",
    "    function solve_quadratic_equation(a, b, c)\n",
    "        Δ=b*b-4.0*a*c;\n",
    "        x1,x2 = 0.0, 0.0;\n",
    "        \n",
    "        if (Δ>0.0)\n",
    "            sΔ = sqrt(Δ)\n",
    "            if (b>0.0)\n",
    "                x1 = (-b-sΔ)/(2.0*a)\n",
    "                x2 = c/x1\n",
    "            else\n",
    "                x2 = (-b+sΔ)/(2.0*a)\n",
    "                x1 = c/x2\n",
    "            end\n",
    "        elseif (Δ<0.0)\n",
    "            sΔ = sqrt(-Δ)\n",
    "            if (b>0.0)\n",
    "                x1 = (-b-sΔ*im)/(2.0*a)\n",
    "                x2 = c/x1\n",
    "            else\n",
    "                x2 = (-b+sΔ*im)/(2.0*a)\n",
    "                x1 = c/x2\n",
    "            end\n",
    "        else\n",
    "            x1 = -b/(2.0*a);\n",
    "            x2 = -b/(2.0*a);\n",
    "        end\n",
    "        return x1,x2;\n",
    "    end      \n",
    "    \n",
    "    n = length(a)-1;\n",
    "    α = zeros( Complex{BigFloat}, n ); _i = 1;\n",
    "    while (n>1)\n",
    "        b = zeros(a)\n",
    "        b[n+1] = a[n+1]     # b_n     = a_n\n",
    "        c = zeros(a)\n",
    "        c[n+1] = 0.0        # c_n     = 0\n",
    "        c[n]   = a[n+1]     # c_{n-1} = a_n\n",
    "\n",
    "        u,v = 0.0, 0.0\n",
    "        for j = 1:maxiter\n",
    "            b[n] = a[n] + u*b[n+1]\n",
    "            for k=n-2:-1:0\n",
    "                b[k+1] = a[k+1] + u*b[k+2] + v*b[k+3]\n",
    "                c[k+1] = b[k+2] + u*c[k+2] + v*c[k+3]\n",
    "            end\n",
    "            J = c[1]*c[3] - c[2]*c[2]\n",
    "            u = u + (c[2]*b[2] - c[3]*b[1])/J\n",
    "            v = v + (c[2]*b[1] - c[1]*b[2])/J\n",
    "            j,u,v,b[1],b[2]\n",
    "        end\n",
    "        x1,x2 = solve_quadratic_equation(1.0,-u,-v)\n",
    "        α[_i] = x1; α[_i+1] = x2; _i = _i+2;\n",
    "        a = b[3:end]\n",
    "        n = n-2;\n",
    "    end\n",
    "    if (n==1)\n",
    "        α[_i] = -a[1]/a[2]\n",
    "    end\n",
    "    return α\n",
    "end"
   ]
  },
  {
   "cell_type": "code",
   "execution_count": 9,
   "metadata": {
    "collapsed": false
   },
   "outputs": [
    {
     "data": {
      "text/plain": [
       "5-element Array{BigFloat,1}:\n",
       " 5.000000000000000000000000000000000000000000000000000000000000000000000000000000\n",
       " 4.000000000000000000000000000000000000000000000000000000000000000000000000000000\n",
       " 3.000000000000000000000000000000000000000000000000000000000000000000000000000000\n",
       " 2.000000000000000000000000000000000000000000000000000000000000000000000000000000\n",
       " 1.000000000000000000000000000000000000000000000000000000000000000000000000000000"
      ]
     },
     "execution_count": 9,
     "metadata": {},
     "output_type": "execute_result"
    }
   ],
   "source": [
    "w = Array{BigFloat}([5.0, 4.0, 3.0, 2.0, 1.0])"
   ]
  },
  {
   "cell_type": "code",
   "execution_count": 10,
   "metadata": {
    "collapsed": false
   },
   "outputs": [
    {
     "data": {
      "text/plain": [
       "4-element Array{Complex{BigFloat},1}:\n",
       "    -1.287815479557647988872498367572877937796610350015573875155447291091005659427255-8.578967583284902864164198233404624483900440536613946792025731093738136814183476e-01im\n",
       "    -1.287815479557647988872498367572877937796610350015573875155447291091005659427255+8.578967583284902864164198233404624483900440536613946792025731093738136814183476e-01im\n",
       " 2.878154795576479888724983675728779377966103500155738751554472910910056594272547e-01-1.416093080171907938724657925735972992292114011419061965178951294957126764120829im    \n",
       " 2.878154795576479888724983675728779377966103500155738751554472910910056594272547e-01+1.416093080171907938724657925735972992292114011419061965178951294957126764120829im    "
      ]
     },
     "execution_count": 10,
     "metadata": {},
     "output_type": "execute_result"
    }
   ],
   "source": [
    "Bairstow(w)"
   ]
  },
  {
   "cell_type": "code",
   "execution_count": 11,
   "metadata": {
    "collapsed": false
   },
   "outputs": [
    {
     "ename": "LoadError",
     "evalue": "\u001b[91mMethodError: no method matching eigvals!(::Array{BigFloat,2}; permute=true, scale=true)\u001b[0m\nClosest candidates are:\n  eigvals!(\u001b[91m::SymTridiagonal{#s267} where #s267<:Union{Float32, Float64}\u001b[39m) at linalg/tridiag.jl:185\u001b[91m got unsupported keyword arguments \"permute\", \"scale\"\u001b[39m\n  eigvals!(\u001b[91m::SymTridiagonal{#s267} where #s267<:Union{Float32, Float64}\u001b[39m, \u001b[91m::UnitRange\u001b[39m) at linalg/tridiag.jl:191\u001b[91m got unsupported keyword arguments \"permute\", \"scale\"\u001b[39m\n  eigvals!(\u001b[91m::SymTridiagonal{#s267} where #s267<:Union{Float32, Float64}\u001b[39m, \u001b[91m::Real\u001b[39m, \u001b[91m::Real\u001b[39m) at linalg/tridiag.jl:198\u001b[91m got unsupported keyword arguments \"permute\", \"scale\"\u001b[39m\n  ...\u001b[39m",
     "output_type": "error",
     "traceback": [
      "\u001b[91mMethodError: no method matching eigvals!(::Array{BigFloat,2}; permute=true, scale=true)\u001b[0m\nClosest candidates are:\n  eigvals!(\u001b[91m::SymTridiagonal{#s267} where #s267<:Union{Float32, Float64}\u001b[39m) at linalg/tridiag.jl:185\u001b[91m got unsupported keyword arguments \"permute\", \"scale\"\u001b[39m\n  eigvals!(\u001b[91m::SymTridiagonal{#s267} where #s267<:Union{Float32, Float64}\u001b[39m, \u001b[91m::UnitRange\u001b[39m) at linalg/tridiag.jl:191\u001b[91m got unsupported keyword arguments \"permute\", \"scale\"\u001b[39m\n  eigvals!(\u001b[91m::SymTridiagonal{#s267} where #s267<:Union{Float32, Float64}\u001b[39m, \u001b[91m::Real\u001b[39m, \u001b[91m::Real\u001b[39m) at linalg/tridiag.jl:198\u001b[91m got unsupported keyword arguments \"permute\", \"scale\"\u001b[39m\n  ...\u001b[39m",
      "",
      "Stacktrace:",
      " [1] \u001b[1m#eigvals#44\u001b[22m\u001b[22m\u001b[1m(\u001b[22m\u001b[22m::Bool, ::Bool, ::Function, ::Array{BigFloat,2}\u001b[1m)\u001b[22m\u001b[22m at \u001b[1m./linalg/eigen.jl:194\u001b[22m\u001b[22m",
      " [2] \u001b[1mroots\u001b[22m\u001b[22m\u001b[1m(\u001b[22m\u001b[22m::Polynomials.Poly{BigFloat}\u001b[1m)\u001b[22m\u001b[22m at \u001b[1m/Users/sgorawski/.julia/v0.6/Polynomials/src/Polynomials.jl:646\u001b[22m\u001b[22m",
      " [3] \u001b[1minclude_string\u001b[22m\u001b[22m\u001b[1m(\u001b[22m\u001b[22m::String, ::String\u001b[1m)\u001b[22m\u001b[22m at \u001b[1m./loading.jl:515\u001b[22m\u001b[22m"
     ]
    }
   ],
   "source": [
    "roots(Poly(w))"
   ]
  },
  {
   "cell_type": "code",
   "execution_count": null,
   "metadata": {
    "collapsed": true
   },
   "outputs": [],
   "source": []
  }
 ],
 "metadata": {
  "kernelspec": {
   "display_name": "Julia 0.6.0",
   "language": "julia",
   "name": "julia-0.6"
  },
  "language_info": {
   "file_extension": ".jl",
   "mimetype": "application/julia",
   "name": "julia",
   "version": "0.6.0"
  }
 },
 "nbformat": 4,
 "nbformat_minor": 2
}
