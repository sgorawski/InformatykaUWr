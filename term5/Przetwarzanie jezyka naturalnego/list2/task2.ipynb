{
 "cells": [
  {
   "cell_type": "code",
   "execution_count": 6,
   "metadata": {},
   "outputs": [],
   "source": [
    "import collections\n",
    "import random"
   ]
  },
  {
   "cell_type": "code",
   "execution_count": null,
   "metadata": {},
   "outputs": [],
   "source": [
    "SUPERTAGS_FILEPATH = '../data/supertags.txt'\n",
    "BIGRAMS_FILEPATH = '../data/poleval_2grams.txt'\n",
    "CORP = '../data/task3_train_segmented.txt'\n",
    "\n",
    "TRAIN_TO_VAL = 0.8"
   ]
  },
  {
   "cell_type": "code",
   "execution_count": 3,
   "metadata": {},
   "outputs": [],
   "source": [
    "TAGS = {}\n",
    "with open(SUPERTAGS_FILEPATH) as f:\n",
    "    for line in f:\n",
    "        word, tag = line.split()\n",
    "        TAGS[word] = tag"
   ]
  },
  {
   "cell_type": "code",
   "execution_count": 4,
   "metadata": {},
   "outputs": [],
   "source": [
    "def tag_of(word):\n",
    "    word_ = word.lower()\n",
    "    return TAGS.get(word_, f'^{word_}'[-3:])"
   ]
  },
  {
   "cell_type": "code",
   "execution_count": null,
   "metadata": {},
   "outputs": [],
   "source": [
    "BIGRAMS = collections.defaultdict(lambda: collections.defaultdict(lambda: 1))\n",
    "BITAGS = collections.defaultdict(lambda: collections.defaultdict(lambda: 1))\n",
    "with open(BIGRAMS_FILEPATH) as f:\n",
    "    for line in f:\n",
    "        count_raw, word1, word2 = line.split()\n",
    "        count = int(count_raw)\n",
    "        tag1, tag2 = tag_of(word1), tag_of(word2)\n",
    "        BIGRAMS[word1][word2] += count\n",
    "        BITAGS[tag1][tag2] += count"
   ]
  },
  {
   "cell_type": "code",
   "execution_count": null,
   "metadata": {},
   "outputs": [],
   "source": [
    "TRAINSET = []\n",
    "VALSET = []\n",
    "\n",
    "max_lines = 100\n"
   ]
  }
 ],
 "metadata": {
  "kernelspec": {
   "display_name": "Python 3",
   "language": "python",
   "name": "python3"
  },
  "language_info": {
   "codemirror_mode": {
    "name": "ipython",
    "version": 3
   },
   "file_extension": ".py",
   "mimetype": "text/x-python",
   "name": "python",
   "nbconvert_exporter": "python",
   "pygments_lexer": "ipython3",
   "version": "3.7.0"
  }
 },
 "nbformat": 4,
 "nbformat_minor": 2
}
