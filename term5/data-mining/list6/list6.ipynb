{
 "cells": [
  {
   "cell_type": "code",
   "execution_count": 1,
   "metadata": {},
   "outputs": [],
   "source": [
    "import collections\n",
    "import itertools"
   ]
  },
  {
   "cell_type": "markdown",
   "metadata": {},
   "source": [
    "# 1"
   ]
  },
  {
   "cell_type": "code",
   "execution_count": 2,
   "metadata": {},
   "outputs": [],
   "source": [
    "class Apriori:\n",
    "    frequent_sets = None\n",
    "    \n",
    "    def __init__(self, data):\n",
    "        \"\"\"data - collection of transactions\"\"\"\n",
    "        self.data = [set(tx) for tx in data]\n",
    "        self.n = len(self.data)\n",
    "\n",
    "    def find_frequent_sets(self, min_supp):\n",
    "        curr_sets = self._get_single_item_sets(min_supp)\n",
    "        self.frequent_sets = curr_sets\n",
    "        while curr_sets:\n",
    "            curr_sets = self._join_sets(curr_sets, min_supp)\n",
    "            self.frequent_sets.extend(curr_sets)\n",
    "    \n",
    "    def _get_single_item_sets(self, min_supp):\n",
    "        item_counts = collections.defaultdict(int)\n",
    "        for tx in self.data:\n",
    "            for prod in tx:\n",
    "                item_counts[prod] += 1\n",
    "        return [\n",
    "            [prod] for prod, count in item_counts.items()\n",
    "            if count / self.n >= min_supp\n",
    "        ]\n",
    "    \n",
    "    def _join_sets(self, sets, min_supp):\n",
    "        new_sets = []\n",
    "        for i, lhs in enumerate(sets):\n",
    "            for rhs in sets[i + 1:]:\n",
    "                if lhs[:-1] == rhs[:-1]:\n",
    "                    cand = lhs + rhs[-1:]\n",
    "                    if self.supp(set(cand)) >= min_supp:\n",
    "                        new_sets.append(cand)\n",
    "        return new_sets\n",
    "    \n",
    "    def supp(self, set_):\n",
    "        return sum(set_ <= tx for tx in self.data) / self.n\n",
    " \n",
    "    def gen_association_rules(self, min_conf):\n",
    "        \"\"\"This is a generator, more interactive\"\"\"\n",
    "        return itertools.chain.from_iterable(\n",
    "            self._find_rules_of(set_, min_conf)\n",
    "            for set_ in self.frequent_sets\n",
    "        )\n",
    "    \n",
    "    def _find_rules_of(self, set_, min_conf):\n",
    "        return (\n",
    "            (lhs, rhs) for lhs, rhs in self._partitions(set_)\n",
    "            if self.confidence(lhs, rhs) >= min_conf\n",
    "        )\n",
    "    \n",
    "    def _partitions(self, set_):\n",
    "        set_ = set(set_)\n",
    "        kinda_powerset = itertools.chain.from_iterable(\n",
    "            itertools.combinations(set_, n) for n in range(1, len(set_))\n",
    "        )\n",
    "        return ((set(lhs), set_ - set(lhs)) for lhs in kinda_powerset)\n",
    "    \n",
    "    def confidence(self, lhs, rhs):\n",
    "        return self.supp(lhs | rhs) / self.supp(lhs)\n",
    "    \n",
    "    def lift(self, lhs, rhs):\n",
    "        return self.confidence(lhs, rhs) / self.supp(rhs)\n",
    "    \n",
    "    def leverage(self, lhs, rhs):\n",
    "        return self.supp(lhs | rhs) - self.supp(lhs) * self.supp(rhs)"
   ]
  },
  {
   "cell_type": "code",
   "execution_count": 3,
   "metadata": {},
   "outputs": [],
   "source": [
    "def test(data, min_supp, min_conf):\n",
    "    a = Apriori(data)\n",
    "    a.find_frequent_sets(min_supp)\n",
    "    rules = []\n",
    "    print('RULE CONFIDENCE LIFT LEVERAGE')\n",
    "    for lhs, rhs in a.gen_association_rules(min_conf):\n",
    "        rules.append((lhs, rhs))\n",
    "        print(\n",
    "            f'{lhs} -> {rhs}'\n",
    "            f' {a.confidence(lhs, rhs):.2f}'\n",
    "            f' {a.lift(lhs, rhs):.2f}'\n",
    "            f' {a.leverage(lhs, rhs):.2f}'\n",
    "        )\n",
    "    return a, rules"
   ]
  },
  {
   "cell_type": "code",
   "execution_count": 4,
   "metadata": {},
   "outputs": [
    {
     "name": "stdout",
     "output_type": "stream",
     "text": [
      "RULE CONFIDENCE LIFT LEVERAGE\n",
      "{1} -> {2} 1.00 1.17 0.06\n",
      "{2} -> {1} 0.50 1.17 0.06\n",
      "{2} -> {3} 0.50 0.88 -0.06\n",
      "{3} -> {2} 0.75 0.88 -0.06\n",
      "{2} -> {4} 0.67 0.93 -0.04\n",
      "{4} -> {2} 0.80 0.93 -0.04\n",
      "{3} -> {4} 0.75 1.05 0.02\n",
      "{4} -> {3} 0.60 1.05 0.02\n"
     ]
    }
   ],
   "source": [
    "# sample data from Wikipedia\n",
    "wiki_data = [\n",
    "    [1, 2, 3, 4],\n",
    "    [1, 2, 4],\n",
    "    [1, 2],\n",
    "    [2, 3, 4],\n",
    "    [2, 3],\n",
    "    [3, 4],\n",
    "    [2, 4],\n",
    "]\n",
    "\n",
    "a1, _ = test(wiki_data, 3 / 7, 0.5)\n",
    "# simple test\n",
    "assert a1.frequent_sets == [[1], [2], [3], [4], [1, 2], [2, 3], [2, 4], [3, 4]]"
   ]
  },
  {
   "cell_type": "code",
   "execution_count": 5,
   "metadata": {},
   "outputs": [],
   "source": [
    "def test_on_dataset(filename, min_supp, min_conf):\n",
    "    \"\"\"Must consist of lines of integers\"\"\"\n",
    "    with open(f'assets/{filename}') as f:\n",
    "        data = ((int(el) for el in line.split()) for line in f)\n",
    "        test(data, min_supp, min_conf)"
   ]
  },
  {
   "cell_type": "markdown",
   "metadata": {},
   "source": [
    "# 2"
   ]
  },
  {
   "cell_type": "code",
   "execution_count": 6,
   "metadata": {
    "scrolled": false
   },
   "outputs": [
    {
     "name": "stdout",
     "output_type": "stream",
     "text": [
      "RULE CONFIDENCE LIFT LEVERAGE\n",
      "{32} -> {39} 0.56 0.97 -0.00\n",
      "{32} -> {48} 0.53 1.11 0.01\n",
      "{36} -> {38} 0.95 5.37 0.03\n",
      "{36} -> {39} 0.69 1.21 0.00\n",
      "{38} -> {39} 0.66 1.15 0.02\n",
      "{38} -> {48} 0.51 1.07 0.01\n",
      "{110} -> {38} 0.98 5.51 0.03\n",
      "{170} -> {38} 0.98 5.53 0.03\n",
      "{41} -> {39} 0.76 1.33 0.03\n",
      "{48} -> {39} 0.69 1.20 0.06\n",
      "{39} -> {48} 0.58 1.20 0.06\n",
      "{65} -> {39} 0.62 1.08 0.00\n",
      "{89} -> {39} 0.72 1.25 0.01\n",
      "{170} -> {39} 0.66 1.16 0.00\n",
      "{225} -> {39} 0.72 1.26 0.01\n",
      "{237} -> {39} 0.64 1.11 0.00\n",
      "{310} -> {39} 0.71 1.24 0.00\n",
      "{41} -> {48} 0.60 1.26 0.02\n",
      "{65} -> {48} 0.57 1.18 0.00\n",
      "{89} -> {48} 0.73 1.53 0.01\n",
      "{32, 38} -> {39} 0.65 1.13 0.00\n",
      "{32, 41} -> {39} 0.74 1.28 0.01\n",
      "{32, 48} -> {39} 0.67 1.17 0.01\n",
      "{32, 39} -> {48} 0.64 1.34 0.02\n",
      "{32, 41} -> {48} 0.65 1.35 0.01\n",
      "{36} -> {38, 39} 0.66 5.65 0.02\n",
      "{36, 38} -> {39} 0.70 1.21 0.00\n",
      "{36, 39} -> {38} 0.95 5.40 0.02\n",
      "{41, 38} -> {39} 0.78 1.36 0.01\n",
      "{48, 38} -> {39} 0.77 1.34 0.02\n",
      "{38, 39} -> {48} 0.59 1.23 0.01\n",
      "{170} -> {38, 39} 0.65 5.55 0.02\n",
      "{170, 38} -> {39} 0.67 1.16 0.00\n",
      "{170, 39} -> {38} 0.98 5.54 0.02\n",
      "{41, 38} -> {48} 0.61 1.27 0.01\n",
      "{48, 41} -> {39} 0.82 1.42 0.02\n",
      "{41, 39} -> {48} 0.65 1.35 0.02\n",
      "{48, 65} -> {39} 0.71 1.24 0.00\n",
      "{65, 39} -> {48} 0.64 1.35 0.01\n",
      "{89} -> {48, 39} 0.55 1.68 0.01\n",
      "{48, 89} -> {39} 0.76 1.32 0.01\n",
      "{89, 39} -> {48} 0.77 1.62 0.01\n",
      "{41, 38} -> {48, 39} 0.51 1.55 0.01\n",
      "{48, 41, 38} -> {39} 0.84 1.46 0.01\n",
      "{41, 38, 39} -> {48} 0.65 1.37 0.01\n"
     ]
    }
   ],
   "source": [
    "test_on_dataset('retail.dat', 0.02, 0.5)"
   ]
  },
  {
   "cell_type": "markdown",
   "metadata": {},
   "source": [
    "# 3"
   ]
  },
  {
   "cell_type": "code",
   "execution_count": 7,
   "metadata": {},
   "outputs": [
    {
     "name": "stdout",
     "output_type": "stream",
     "text": [
      "RULE CONFIDENCE LIFT LEVERAGE\n",
      "{1} -> {6} 0.67 1.10 0.01\n",
      "{3} -> {6} 0.59 0.97 -0.01\n",
      "{7} -> {6} 0.85 1.39 0.02\n",
      "{11} -> {6} 0.89 1.47 0.10\n",
      "{6} -> {11} 0.54 1.47 0.10\n",
      "{27} -> {6} 0.82 1.36 0.02\n",
      "{148} -> {6} 0.93 1.52 0.02\n",
      "{218} -> {6} 0.88 1.44 0.02\n",
      "{7} -> {11} 0.66 1.79 0.03\n",
      "{148} -> {11} 0.80 2.17 0.03\n",
      "{218} -> {11} 0.70 1.89 0.03\n",
      "{218} -> {148} 0.66 9.40 0.05\n",
      "{148} -> {218} 0.84 9.40 0.05\n",
      "{1, 3} -> {6} 0.68 1.12 0.01\n",
      "{1, 11} -> {6} 0.94 1.54 0.03\n",
      "{1, 6} -> {11} 0.65 1.77 0.04\n",
      "{3, 11} -> {6} 0.89 1.47 0.05\n",
      "{3, 6} -> {11} 0.54 1.47 0.05\n",
      "{7} -> {11, 6} 0.64 1.96 0.03\n",
      "{11, 7} -> {6} 0.98 1.61 0.02\n",
      "{6, 7} -> {11} 0.76 2.06 0.03\n",
      "{148} -> {11, 6} 0.79 2.41 0.03\n",
      "{11, 148} -> {6} 0.99 1.63 0.02\n",
      "{148, 6} -> {11} 0.85 2.32 0.03\n",
      "{218} -> {11, 6} 0.68 2.09 0.03\n",
      "{218, 11} -> {6} 0.98 1.62 0.02\n",
      "{218, 6} -> {11} 0.78 2.12 0.03\n",
      "{218} -> {148, 6} 0.64 9.81 0.05\n",
      "{148} -> {218, 6} 0.81 10.36 0.05\n",
      "{218, 148} -> {6} 0.97 1.59 0.02\n",
      "{218, 6} -> {148} 0.73 10.36 0.05\n",
      "{148, 6} -> {218} 0.88 9.81 0.05\n",
      "{218} -> {11, 148} 0.57 10.04 0.05\n",
      "{148} -> {218, 11} 0.72 11.50 0.05\n",
      "{218, 11} -> {148} 0.81 11.50 0.05\n",
      "{218, 148} -> {11} 0.85 2.32 0.03\n",
      "{11, 148} -> {218} 0.90 10.04 0.05\n",
      "{218} -> {11, 148, 6} 0.56 10.09 0.05\n",
      "{148} -> {218, 11, 6} 0.71 11.64 0.05\n",
      "{218, 11} -> {148, 6} 0.81 12.37 0.05\n",
      "{218, 148} -> {11, 6} 0.85 2.59 0.03\n",
      "{218, 6} -> {11, 148} 0.64 11.40 0.05\n",
      "{11, 148} -> {218, 6} 0.89 11.40 0.05\n",
      "{148, 6} -> {218, 11} 0.77 12.37 0.05\n",
      "{218, 11, 148} -> {6} 1.00 1.64 0.02\n",
      "{218, 11, 6} -> {148} 0.82 11.64 0.05\n",
      "{218, 148, 6} -> {11} 0.88 2.39 0.03\n",
      "{11, 148, 6} -> {218} 0.90 10.09 0.05\n"
     ]
    }
   ],
   "source": [
    "test_on_dataset('kosarak.dat', 0.05, 0.5)"
   ]
  },
  {
   "cell_type": "markdown",
   "metadata": {},
   "source": [
    "# 4"
   ]
  },
  {
   "cell_type": "code",
   "execution_count": null,
   "metadata": {},
   "outputs": [],
   "source": []
  }
 ],
 "metadata": {
  "kernelspec": {
   "display_name": "Python 3",
   "language": "python",
   "name": "python3"
  },
  "language_info": {
   "codemirror_mode": {
    "name": "ipython",
    "version": 3
   },
   "file_extension": ".py",
   "mimetype": "text/x-python",
   "name": "python",
   "nbconvert_exporter": "python",
   "pygments_lexer": "ipython3",
   "version": "3.7.0"
  }
 },
 "nbformat": 4,
 "nbformat_minor": 2
}
