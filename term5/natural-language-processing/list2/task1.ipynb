{
 "cells": [
  {
   "cell_type": "code",
   "execution_count": 1,
   "metadata": {},
   "outputs": [],
   "source": [
    "import os\n",
    "import collections\n",
    "import random\n",
    "import math"
   ]
  },
  {
   "cell_type": "code",
   "execution_count": 2,
   "metadata": {},
   "outputs": [],
   "source": [
    "DATA_DIRPATH = os.path.join('..', 'data', 'dane_pozytywistyczne')\n",
    "\n",
    "CORP_FILEPATHS = {\n",
    "    'P': os.path.join(DATA_DIRPATH, 'korpus_prusa.txt'),\n",
    "    'O': os.path.join(DATA_DIRPATH, 'korpus_orzeszkowej.txt'),\n",
    "    'S': os.path.join(DATA_DIRPATH, 'korpus_sienkiewicza.txt'),\n",
    "}"
   ]
  },
  {
   "cell_type": "code",
   "execution_count": 3,
   "metadata": {},
   "outputs": [],
   "source": [
    "TARGETS = list('POS')\n",
    "\n",
    "UNIGRAMS = {\n",
    "    target: collections.defaultdict(lambda: 1)\n",
    "    for target in TARGETS\n",
    "}\n",
    "\n",
    "PUNCTUATION = {\n",
    "    target: collections.defaultdict(lambda: 1)\n",
    "    for target in TARGETS\n",
    "}"
   ]
  },
  {
   "cell_type": "code",
   "execution_count": 4,
   "metadata": {},
   "outputs": [],
   "source": [
    "LETTERS_PL = set('aąbcćdeęfghijklłmnńoópqrsśtuvwxyzżź')\n",
    "PUNCT = set('.,;?!')\n",
    "\n",
    "def extract_features(text):\n",
    "    # words only for now\n",
    "    buf = []\n",
    "    words = []\n",
    "    punctuation = []\n",
    "    for ch in text:\n",
    "        if ch in LETTERS_PL:\n",
    "            buf.append(ch)\n",
    "        elif buf:\n",
    "            words.append(''.join(buf))\n",
    "            buf.clear()\n",
    "        if ch in PUNCT:\n",
    "            punctuation.append(ch)\n",
    "            \n",
    "    return words, punctuation\n",
    "\n",
    "def train(target, text):\n",
    "    words, punctuation = extract_features(text)\n",
    "    for word in words:\n",
    "        UNIGRAMS[target][word] += 1\n",
    "    for pun in punctuation:\n",
    "        PUNCTUATION[target][pun] += 1"
   ]
  },
  {
   "cell_type": "code",
   "execution_count": 5,
   "metadata": {},
   "outputs": [],
   "source": [
    "for target, filepath in CORP_FILEPATHS.items():\n",
    "    with open(filepath) as f:\n",
    "        for line in f:\n",
    "            train(target, line)"
   ]
  },
  {
   "cell_type": "code",
   "execution_count": 6,
   "metadata": {},
   "outputs": [],
   "source": [
    "def classify(text):\n",
    "    words, punctuation = extract_features(text)\n",
    "    probs = {}\n",
    "    for target in TARGETS:\n",
    "        all_ugs_count = sum(UNIGRAMS[target].values())\n",
    "        words_prob = sum(math.log(UNIGRAMS[target][word]) for word in words)\n",
    "        words_prob -= len(words) * math.log(all_ugs_count)\n",
    "        \n",
    "        all_pun_count = sum(PUNCTUATION[target].values())\n",
    "        punct_prob = sum(math.log(PUNCTUATION[target][pun]) for pun in punctuation)\n",
    "        punct_prob -= len(punctuation) * math.log(all_pun_count)\n",
    "\n",
    "        probs[target] = words_prob + punct_prob\n",
    "    pred = sorted(probs.items(), key=lambda p: p[1], reverse=True)[0][0]\n",
    "    return pred"
   ]
  },
  {
   "cell_type": "code",
   "execution_count": 7,
   "metadata": {},
   "outputs": [],
   "source": [
    "def test(target, text):\n",
    "    pred = classify(text)\n",
    "    return pred == target"
   ]
  },
  {
   "cell_type": "code",
   "execution_count": 8,
   "metadata": {
    "scrolled": false
   },
   "outputs": [
    {
     "name": "stdout",
     "output_type": "stream",
     "text": [
      "0.7\n",
      "P\n",
      "    P -> 19\n",
      "    S -> 2\n",
      "    O -> 0\n",
      "O\n",
      "    P -> 0\n",
      "    S -> 9\n",
      "    O -> 3\n",
      "S\n",
      "    P -> 7\n",
      "    S -> 20\n",
      "    O -> 0\n"
     ]
    }
   ],
   "source": [
    "# test on tests data\n",
    "TESTS_DIRPATH = os.path.join(DATA_DIRPATH, 'testy1')\n",
    "\n",
    "test_filenames = os.listdir(TESTS_DIRPATH)\n",
    "correct = 0\n",
    "preds = collections.defaultdict(lambda: collections.defaultdict(int))\n",
    "\n",
    "for test_filename in test_filenames:\n",
    "    if 'prus' in test_filename:\n",
    "        target = 'P'\n",
    "    elif 'orze' in test_filename:\n",
    "        target = 'O'\n",
    "    else:\n",
    "        target = 'S'\n",
    "    with open(os.path.join(TESTS_DIRPATH, test_filename)) as f:\n",
    "        text = f.read()\n",
    "    pred = classify(text)\n",
    "    preds[target][pred] += 1\n",
    "    if pred == target:\n",
    "        correct += 1\n",
    "print(correct / len(test_filenames))\n",
    "for t in TARGETS:\n",
    "    print(t)\n",
    "    for p in preds:\n",
    "        print(f'    {p} -> {preds[t][p]}')"
   ]
  },
  {
   "cell_type": "code",
   "execution_count": null,
   "metadata": {},
   "outputs": [],
   "source": []
  }
 ],
 "metadata": {
  "kernelspec": {
   "display_name": "Python 3",
   "language": "python",
   "name": "python3"
  },
  "language_info": {
   "codemirror_mode": {
    "name": "ipython",
    "version": 3
   },
   "file_extension": ".py",
   "mimetype": "text/x-python",
   "name": "python",
   "nbconvert_exporter": "python",
   "pygments_lexer": "ipython3",
   "version": "3.7.0"
  }
 },
 "nbformat": 4,
 "nbformat_minor": 2
}
