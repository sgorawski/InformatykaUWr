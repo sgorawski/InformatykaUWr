{
 "cells": [
  {
   "cell_type": "markdown",
   "metadata": {},
   "source": [
    "**Zadanie 5. (4p)** Napisz program, który **sprawdza**, jaka jest wielkość list postingowych dla słów\n",
    "z Wikipedyjki, gdy:\n",
    "\n",
    "1. Kodujemy numery dokumentów za pomocą `int32`.\n",
    "2. Kodujemy różnice numerów dokumentów za pomocą kodu VB.\n",
    "3. Kodujemy różnice numerów dokumentów za pomocą kodu VB, operującego 4-bitowymi (a nie 8)- porcjami danych.\n",
    "4. Kodujemy różnice numerów dokumentów za pomocą kodu Gamma (wybierz najbardziej wydajny\n",
    "wariant, biorąc pod uwagę że nie musisz kodować liczby 0). Zaokrąglaj wielkości całych list\n",
    "postingowych do liczby bitów podzielnej przez 8.\n",
    "\n",
    "Ważne: wynikiem programu mają być 4 liczby, nie musisz zatem implementować tych kodów. Utożsamiaj małe i duże literki, ale możesz się nie przejmować tokenizacją (wystarczy split, choć możesz\n",
    "też zobaczyć, czy zmiana tokenizacji na wziętą z NLTK coś zmieni)."
   ]
  },
  {
   "cell_type": "code",
   "execution_count": 20,
   "metadata": {},
   "outputs": [],
   "source": [
    "import math\n",
    "import logging\n",
    "from collections import defaultdict\n",
    "from itertools import count"
   ]
  },
  {
   "cell_type": "code",
   "execution_count": 7,
   "metadata": {},
   "outputs": [],
   "source": [
    "WIKI_ARTICLES_FILE_PATH = 'data/fp_wiki.txt'"
   ]
  },
  {
   "cell_type": "code",
   "execution_count": 14,
   "metadata": {},
   "outputs": [],
   "source": [
    "ARTICLE_IDS_BY_WORD = defaultdict(set)\n",
    "\n",
    "with open(WIKI_ARTICLES_FILE_PATH) as f:\n",
    "    lines = iter(f)\n",
    "    try:\n",
    "        for i in count():\n",
    "            _title_with_prefix = next(lines)\n",
    "            text = next(lines).split()\n",
    "            while sentence := next(lines).split():\n",
    "                text.extend(sentence)\n",
    "            for word in text:\n",
    "                ARTICLE_IDS_BY_WORD[word.lower()].add(i)\n",
    "    except StopIteration:\n",
    "        pass\n",
    "\n",
    "INDEX = {\n",
    "    word: sorted(ids)\n",
    "    for word, ids in ARTICLE_IDS_BY_WORD.items()\n",
    "}"
   ]
  },
  {
   "cell_type": "code",
   "execution_count": 28,
   "metadata": {},
   "outputs": [],
   "source": [
    "def get_int32_posting_lists_size_bytes():\n",
    "    return sum(\n",
    "        4 * len(posting_list)\n",
    "        for posting_list in INDEX.values()\n",
    "    )"
   ]
  },
  {
   "cell_type": "code",
   "execution_count": 29,
   "metadata": {},
   "outputs": [],
   "source": [
    "def get_vb_posting_lists_size_bytes(bits):\n",
    "    num_segments = 0\n",
    "    for posting_list in INDEX.values():\n",
    "        prev = -1\n",
    "        for id_ in posting_list:\n",
    "            diff = id_ - prev\n",
    "            num_segments += math.ceil(math.log2(diff) / (bits - 1))\n",
    "    return num_segments * (bits / 8)"
   ]
  },
  {
   "cell_type": "code",
   "execution_count": 30,
   "metadata": {},
   "outputs": [],
   "source": [
    "def get_gamma_posting_lists_size_bytes():\n",
    "    total_bytes = 0\n",
    "    for posting_list in INDEX.values():\n",
    "        list_bits = 0\n",
    "        prev = -1\n",
    "        for id_ in posting_list:\n",
    "            diff = id_ - prev\n",
    "            list_bits += 1 + 2 * math.floor(math.log2(diff))\n",
    "        total_bytes += math.ceil(list_bits / 8)\n",
    "    return total_bytes"
   ]
  },
  {
   "cell_type": "code",
   "execution_count": 31,
   "metadata": {},
   "outputs": [
    {
     "data": {
      "text/plain": [
       "279586592"
      ]
     },
     "execution_count": 31,
     "metadata": {},
     "output_type": "execute_result"
    }
   ],
   "source": [
    "get_int32_posting_lists_size_bytes()"
   ]
  },
  {
   "cell_type": "code",
   "execution_count": 32,
   "metadata": {},
   "outputs": [
    {
     "data": {
      "text/plain": [
       "208623045.0"
      ]
     },
     "execution_count": 32,
     "metadata": {},
     "output_type": "execute_result"
    }
   ],
   "source": [
    "get_vb_posting_lists_size_bytes(bits=8)"
   ]
  },
  {
   "cell_type": "code",
   "execution_count": 33,
   "metadata": {},
   "outputs": [
    {
     "data": {
      "text/plain": [
       "235949862.0"
      ]
     },
     "execution_count": 33,
     "metadata": {},
     "output_type": "execute_result"
    }
   ],
   "source": [
    "get_vb_posting_lists_size_bytes(bits=4)"
   ]
  },
  {
   "cell_type": "code",
   "execution_count": 34,
   "metadata": {},
   "outputs": [
    {
     "data": {
      "text/plain": [
       "328320429"
      ]
     },
     "execution_count": 34,
     "metadata": {},
     "output_type": "execute_result"
    }
   ],
   "source": [
    "get_gamma_posting_lists_size_bytes()"
   ]
  },
  {
   "cell_type": "code",
   "execution_count": null,
   "metadata": {},
   "outputs": [],
   "source": []
  }
 ],
 "metadata": {
  "kernelspec": {
   "display_name": "Python 3",
   "language": "python",
   "name": "python3"
  },
  "language_info": {
   "codemirror_mode": {
    "name": "ipython",
    "version": 3
   },
   "file_extension": ".py",
   "mimetype": "text/x-python",
   "name": "python",
   "nbconvert_exporter": "python",
   "pygments_lexer": "ipython3",
   "version": "3.8.1"
  }
 },
 "nbformat": 4,
 "nbformat_minor": 4
}
