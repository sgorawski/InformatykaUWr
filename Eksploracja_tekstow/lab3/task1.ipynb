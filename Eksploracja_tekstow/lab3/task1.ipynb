{
 "cells": [
  {
   "cell_type": "markdown",
   "metadata": {},
   "source": [
    "**Zadanie 1. (5p)** Dodaj do wyszukiwarki Wikipedyjki indeks pozycyjny. Każde zapytanie powinno\n",
    "być traktowane jako pytanie o frazę, przy czym powinieneś obsługiwać odmianę, tzn. pytanie\n",
    "_skoki narciarskie_ powinno zwracać również dokumenty zawierające frazę _skoków narciarskich_. W\n",
    "wypisywanych fragmentach dokumentów powinny być wyróżnione (najlepiej kolorem) trafienia całej\n",
    "frazy. Kolejność wypisywania dokumentów może być dowolna."
   ]
  },
  {
   "cell_type": "code",
   "execution_count": 1,
   "metadata": {},
   "outputs": [],
   "source": [
    "import csv\n",
    "import logging\n",
    "from collections import defaultdict\n",
    "from bisect import bisect"
   ]
  },
  {
   "cell_type": "code",
   "execution_count": 2,
   "metadata": {},
   "outputs": [],
   "source": [
    "BASE_FORMS_FILE_PATH = 'data/polimorfologik-2.1.txt'\n",
    "WIKI_ARTICLES_FILE_PATH = 'data/fp_wiki.txt'"
   ]
  },
  {
   "cell_type": "code",
   "execution_count": 3,
   "metadata": {},
   "outputs": [],
   "source": [
    "BASE_FORMS = {}\n",
    "\n",
    "with open(BASE_FORMS_FILE_PATH) as f:\n",
    "    for base_form, word, *_ in csv.reader(f, delimiter=';'):\n",
    "        BASE_FORMS[word.lower()] = base_form"
   ]
  },
  {
   "cell_type": "code",
   "execution_count": 4,
   "metadata": {},
   "outputs": [],
   "source": [
    "def base(word):\n",
    "    return BASE_FORMS.get(word.lower())"
   ]
  },
  {
   "cell_type": "code",
   "execution_count": 5,
   "metadata": {},
   "outputs": [],
   "source": [
    "POSITION_BY_ID = []\n",
    "WIKI_ARTICLES = []\n",
    "POSITIONAL_INDEX = defaultdict(set)\n",
    "\n",
    "with open(WIKI_ARTICLES_FILE_PATH) as f:\n",
    "    lines = iter(f)\n",
    "    position = 0\n",
    "    try:\n",
    "        while True:\n",
    "            POSITION_BY_ID.append(position)\n",
    "            _title_with_prefix = next(lines)\n",
    "            title = next(lines).split()\n",
    "            for word in title:\n",
    "                POSITIONAL_INDEX[base(word)].add(position)\n",
    "                position += 1\n",
    "            text = []\n",
    "            while sentence := next(lines).split():\n",
    "                for word in sentence:\n",
    "                    POSITIONAL_INDEX[base(word)].add(position)\n",
    "                    position += 1\n",
    "                text.extend(sentence)\n",
    "            WIKI_ARTICLES.append((title, text))\n",
    "    except StopIteration:\n",
    "        pass"
   ]
  },
  {
   "cell_type": "code",
   "execution_count": 6,
   "metadata": {},
   "outputs": [],
   "source": [
    "def get_id(position):\n",
    "    return bisect(POSITION_BY_ID, position) - 1"
   ]
  },
  {
   "cell_type": "code",
   "execution_count": 7,
   "metadata": {},
   "outputs": [],
   "source": [
    "def _find_positions(base_phrase):\n",
    "    return set.intersection(*(\n",
    "        {position - offset for position in POSITIONAL_INDEX[word]}\n",
    "        for offset, word in enumerate(base_phrase)\n",
    "    ))"
   ]
  },
  {
   "cell_type": "code",
   "execution_count": 8,
   "metadata": {},
   "outputs": [],
   "source": [
    "def find_articles(phrase):\n",
    "    base_phrase = [base(word) for word in phrase]\n",
    "    if not all(base_phrase):\n",
    "        raise ValueError(f'Could not find all base forms for \"{phrase}\"')\n",
    "    articles_hits = defaultdict(set)\n",
    "    for position in _find_positions(base_phrase):\n",
    "        articles_hits[get_id(position)].add(position)\n",
    "    results = []\n",
    "    for id_, positions in articles_hits.items():\n",
    "        start = POSITION_BY_ID[id_]\n",
    "        title, text = WIKI_ARTICLES[id_]\n",
    "        hits = [position - start for position in positions]\n",
    "        results.append((\n",
    "            (title, [hit for hit in hits if hit < len(title)]),\n",
    "            (text, [hit - len(title) for hit in hits if hit >= len(title)]),\n",
    "        ))\n",
    "    return results"
   ]
  },
  {
   "cell_type": "code",
   "execution_count": 20,
   "metadata": {},
   "outputs": [],
   "source": [
    "def highlight(text):\n",
    "    return f'\\033[1m\\033[34m{text}\\033[m'\n",
    "\n",
    "\n",
    "def display(result, query_length):\n",
    "    (title, title_hits), (text, text_hits) = result\n",
    "    title_copy = title[:]\n",
    "    text_copy = text[:]\n",
    "    for hit in title_hits:\n",
    "        title_copy[hit : hit + query_length] = [\n",
    "            highlight(title_copy[hit + offset]) for offset in range(query_length)\n",
    "        ]\n",
    "    for hit in text_hits:\n",
    "        text_copy[hit : hit + query_length] = [\n",
    "            highlight(text_copy[hit + offset]) for offset in range(query_length)\n",
    "        ]\n",
    "    return f\"{' '.join(title_copy)}\\n{' '.join(text_copy)}\\n\\n\"\n",
    "    \n",
    "\n",
    "def search(query, max_num_results=1000):\n",
    "    phrase = query.split()\n",
    "    results = find_articles(phrase)\n",
    "    for result, _ in zip(results, range(max_num_results)):\n",
    "        print(display(result, len(phrase)))"
   ]
  },
  {
   "cell_type": "code",
   "execution_count": 21,
   "metadata": {},
   "outputs": [
    {
     "name": "stdout",
     "output_type": "stream",
     "text": [
      "Johan Remen Evensen\n",
      "Johan Remen Evensen ( ur . 16 września 1985 w Alsvågu ) – norweski skoczek narciarski pochodzący z Øksnes . Były rekordzista świata w długości skoku ( 246,5 m ) . W Pucharze Świata zadebiutował w sezonie 2008/2009 podczas konkursów w Trondheim , gdzie zajął 10. i 12. miejsce . Ze względu na dobry występ wziął udział w kolejnych konkursach we włoskim Pragelato , gdzie w drugim konkursie zajął 3. miejsce . Po raz kolejny na podium stanął 2 miesiące później w konkursie na mamuciej skoczni w Oberstdorfie . W 2009 uczestniczył w mistrzostwach świata w Libercu . W konkursach indywidualnych zajął 27. i 30. miejsce . W konkursie drużynowym zdobył srebrny medal . Cały sezon zakończył na 20. miejscu w klasyfikacji generalnej PŚ . W kolejnym sezonie 2009/2010 ustanowił swój nowy rekord życiowy 224,5 m w Oberstdorfie podczas kwalifikacji do konkursu indywidualnego 29 stycznia 2010 . Dwa dni później po raz trzeci w karierze stanął na podium , dokładnie na jego trzecim stopniu . Na igrzyskach olimpijskich wystąpił tylko w jednym konkursie , w którym zajął 15. miejsce . Zdobył brązowy medal w konkursie drużynowym . Na mistrzostwach świata w lotach w Planicy zajął osiemnaste miejsce indywidualne , a drugie drużynowo . W Pucharze Świata poczynił postęp w stosunku do ubiegłego sezonu , zajmując 18. miejsce w klasyfikacji generalnej . 11 lutego 2011 pobił nieoficjalny rekord świata w długości \u001b[1m\u001b[34mskoku\u001b[m \u001b[1m\u001b[34mnarciarskiego\u001b[m , skacząc 246,5 m. Skok ten był trzecim w historii skokiem zakończonym lądowaniem poza 240 metrem ( wynik ten był najlepszym na świecie do 14 lutego 2015 , kiedy 250 m na tej samej skoczni uzyskał Peter Prevc ) . 20 lutego 2012 ogłosił zakończenie kariery .\n",
      "\n",
      "\n",
      "Niko Kytösaho\n",
      "Niko Oskari Kytösaho ( ur . 18 grudnia 1999 ) – fiński skoczek narciarski , reprezentant klubu Lahden Hiihtoseura . Złoty i srebrny medalista zimowego olimpijskiego festiwalu młodzieży Europy z 2015 roku . Indywidualny mistrz Finlandii w \u001b[1m\u001b[34mskokach\u001b[m \u001b[1m\u001b[34mnarciarskich\u001b[m . Syn skoczka narciarskiego i trenera Pasiego Kytösaho . Kytösaho w zawodach organizowanych przez FIS zadebiutował 27 lipca 2013 podczas zawodów FIS Youth Cup na skoczni K-70 kompleksu Adler-Skistadion w Hinterzarten , gdzie zajął 24. miejsce .\n",
      "\n",
      "\n",
      "Puchar Świata w \u001b[1m\u001b[34mskokach\u001b[m \u001b[1m\u001b[34mnarciarskich\u001b[m w Cortina d’Ampezzo\n",
      "Puchar Świata w \u001b[1m\u001b[34mskokach\u001b[m \u001b[1m\u001b[34mnarciarskich\u001b[m w Cortina d’Ampezzo po raz pierwszy został rozegrany w sezonie 1979/80 . Wtedy to skocznia Italia doznała zaszczytu zorganizowana pierwszego w historii \u001b[1m\u001b[34mskoków\u001b[m \u001b[1m\u001b[34mnarciarskich\u001b[m konkursu o Kryształową Kulę . Historycznym triumfatorem został Austriak Toni Innauer . Rok później w Cortina d’Ampezzo brakowało śniegu i - również po raz pierwszy w historii - zawody PŚ zostały odwołane . Podczas konkursu rozegrano w sezonie 1981/82 najlepszy okazał się reprezentant Norwegii , Roger Ruud . W następnym sezonie Italia okazała się łaskawa dla fina Matti Nykänena . Sezon 1983/84 to z kolei wygrana Jensa Weißfloga z NRD . Podczas , do tej pory ostatniego , rozegranego w 1985 roku konkursu Pucharu Świata w Cortina d’Ampezzo ponownie najlepszym był Roger Ruud .\n",
      "\n",
      "\n",
      "Izumi Yamada\n",
      "Pierwszy skok w życiu Izumi Yamada oddała w 1984 roku w rodzinnym Sapporo . Po raz pierwszy na międzynarodowej arenie wystartowała 19 lutego 2003 w Breitenbergu w konkursie organizowanym przez FIS i uplasowała się w nim na 15. miejscu . 1 marca 2003 w Schönwaldzie w konkursie tej samej rangi zajęła siódme miejsce . W Pucharze Kontynentalnym po raz pierwszy wystartowała 8 lutego 2005 w Schönwaldzie i zajęła w nim 16. miejsce . 6 marca 2005 w Sapporo po raz pierwszy w karierze stanęła na podium międzynarodowych zawodów w \u001b[1m\u001b[34mskokach\u001b[m \u001b[1m\u001b[34mnarciarskich\u001b[m . Zajęła wówczas drugie miejsce za Danielą Iraschko w konkursie FIS .\n",
      "\n",
      "\n",
      "Letnie Mistrzostwa Norwegii w \u001b[1m\u001b[34mSkokach\u001b[m \u001b[1m\u001b[34mNarciarskich\u001b[m 2015\n",
      "Letnie Mistrzostwa Norwegii w \u001b[1m\u001b[34mSkokach\u001b[m \u001b[1m\u001b[34mNarciarskich\u001b[m – zawody o letnie mistrzostwo Norwegii w \u001b[1m\u001b[34mskokach\u001b[m \u001b[1m\u001b[34mnarciarskich\u001b[m na igelicie , które odbyły się w dniach 10 - 11 października 2015 roku na Granåsen w Trondheim . Mistrzostwo Norwegii wśród mężczyzn na dużej skoczni wywalczył Daniel Andre Tande , który wyprzedził aż o 28,4 punktu Joacima Ødegårda Bjørenga i o 41,3 punktu Andersa Fannemela . Natomiast mistrzostwo Norwegii na dużej skoczni wśród kobiet wywalczyła Line Jahr , która wyprzedziła o 7,3 punktu Maren Lundby i o 80,9 Anniken Mork .\n",
      "\n",
      "\n",
      "Aldo Trivella\n",
      "Aldo Trivella ( ur . 1 kwietnia 1921 ) – włoski skoczek narciarski , uczestnik Zimowych Igrzysk Olimpijskich 1948 w Sankt Moritz . Na igrzyskach w 1948 roku w Sankt Moritz wystąpił w zawodach na skoczni normalnej K-68 . W pierwszej serii uzyskał najgorszą odległość konkursu – 41,5 metra . W drugiej poprawił się jednak o 17,5 metra i z notą łączną 176,6 pkt . zajął 38. miejsce w stawce 46 zawodników , którzy ukończyli zawody . Był dziewięciokrotnym medalistą mistrzostw Włoch w \u001b[1m\u001b[34mskokach\u001b[m \u001b[1m\u001b[34mnarciarskich\u001b[m , w tym trzy razy złotym .\n",
      "\n",
      "\n",
      "RTL Ski Jumping 2007\n",
      "RTL Ski Jumping 2007 ; RTL Skispringen 2007 – ósma i ostatnia część serii gier komputerowych RTL Ski Jumping o \u001b[1m\u001b[34mskokach\u001b[m \u001b[1m\u001b[34mnarciarskich\u001b[m . Licencjonowany produkt FIS . Zawiera 41 obiektów w tym , skocznie igelitowe i nocne . W grze gracz startuje w trzech ligach : juniorskiej , amatorskiej i profesjonalnej . Na początku w trybie kariery gracz zaczyna jako szesnastolatek . Umiejętności podnosi poprzez trening . Wpływ na skoki ma również sprzęt i jakość nawoskowania nart . Ten zdobywany jest poprzez awanse na kolejne poziomy umiejętności i zaliczanie wyzwań takich jak np . skok powyżej 225 metra . Oprócz startów w zawodach , pieniądze gracz może zdobyć na wiele sposobów : dzięki zakładom bukmacherskim , sponsorom i wygranych w quizie .\n",
      "\n",
      "\n",
      "Letnie Mistrzostwa Polski w \u001b[1m\u001b[34mSkokach\u001b[m \u001b[1m\u001b[34mNarciarskich\u001b[m 2005\n",
      "10 . Letnie Mistrzostwa Polski w \u001b[1m\u001b[34mSkokach\u001b[m \u001b[1m\u001b[34mNarciarskich\u001b[m – zawody o mistrzostwo Polski w \u001b[1m\u001b[34mskokach\u001b[m \u001b[1m\u001b[34mnarciarskich\u001b[m na igelicie , które odbyły się w dniach 15-16 października 2005 roku na Średniej i Wielkiej Krokwi w Zakopanem . W konkursie na normalnej skoczni zwyciężył Adam Małysz , srebrny medal zdobył Marcin Bachleda , a brązowy - Robert Mateja . Na dużym obiekcie najlepszy okazał się Małysz przed Bachledą i Mateją . W konkursie wzięło udział 48 zawodników . W nawiasach podano miejsce z uwzględnieniem zawodników zagranicznych .\n",
      "\n",
      "\n",
      "Mistrzostwa Świata Juniorów w Narciarstwie Klasycznym 1999\n",
      "Mistrzostwa Świata Juniorów w Narciarstwie Klasycznym 1999 – zawody sportowe , które odbyły się w dniach 3 lutego - 7 lutego 1999 r. w austriackim Saalfelden am Steinernen Meer . Podczas mistrzostw zawodnicy rywalizowali w 8 konkurencjach , w trzech dyscyplinach klasycznych : \u001b[1m\u001b[34mskokach\u001b[m \u001b[1m\u001b[34mnarciarskich\u001b[m , kombinacji norweskiej oraz w biegach narciarskich . W tabeli medalowej zwyciężyła reprezentacja Finlandii , której zawodnicy zdobyli 3 złote , 4 srebrne i 2 brązowe medale . Najwięcej medali wywalczyły ekipy Finlandii oraz Niemiec - po 5 .\n",
      "\n",
      "\n",
      "Puchar Świata w \u001b[1m\u001b[34mskokach\u001b[m \u001b[1m\u001b[34mnarciarskich\u001b[m 1982/1983\n",
      "Sezon 1982/1983 Pucharu Świata w \u001b[1m\u001b[34mskokach\u001b[m \u001b[1m\u001b[34mnarciarskich\u001b[m – 4. sezon Pucharu Świata mężczyzn w \u001b[1m\u001b[34mskokach\u001b[m \u001b[1m\u001b[34mnarciarskich\u001b[m .\n",
      "\n",
      "\n"
     ]
    }
   ],
   "source": [
    "search('skoki narciarskie', max_num_results=10)"
   ]
  },
  {
   "cell_type": "code",
   "execution_count": null,
   "metadata": {},
   "outputs": [],
   "source": []
  }
 ],
 "metadata": {
  "kernelspec": {
   "display_name": "Python 3",
   "language": "python",
   "name": "python3"
  },
  "language_info": {
   "codemirror_mode": {
    "name": "ipython",
    "version": 3
   },
   "file_extension": ".py",
   "mimetype": "text/x-python",
   "name": "python",
   "nbconvert_exporter": "python",
   "pygments_lexer": "ipython3",
   "version": "3.8.1"
  }
 },
 "nbformat": 4,
 "nbformat_minor": 4
}
