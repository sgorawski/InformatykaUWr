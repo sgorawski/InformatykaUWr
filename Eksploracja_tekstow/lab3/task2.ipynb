{
 "cells": [
  {
   "cell_type": "markdown",
   "metadata": {},
   "source": [
    "**Zadanie 2. (7p)** Zadanie to jest rozwinięciem zadania poprzedniego. Wyszukiwarka, którą piszesz\n",
    "w tym punkcie powinna:\n",
    "\n",
    "1. obsługiwać zapytania zwykłe i frazowe,\n",
    "2. rozpoznawać typ zapytania po obecności cudzysłowów,\n",
    "3. obsługiwać zapytania frazowe w dowolny sposób, niekoniecznie indeksem pozycyjnym,\n",
    "4. tworzyć ranking dla zapytań zwykłych, który uwzględnia cechy z poprzedniej listy zadań,\n",
    "5. premiując dodatkowo dokumenty zawierające frazy z zapytania.\n",
    "\n",
    "Oznacza to w szczególności, że w przypadku zapytania zwykłego, będącego frazą, dokumenty zawierające tę frazę powinny być wysoko na liście odpowiedzi. Należy również inteligentnie obsługiwać\n",
    "takie pytania jak:\n",
    "\n",
    "> kodeks karny kara za morderstwo\n",
    "\n",
    "i premiować dokumenty zawierające np. takie zdanie\n",
    "\n",
    "> w ostatniej nowelizacji kodeksu karnego wprowadzono podwyższoną karę za morderstwo,\n",
    "\n",
    "a nie premiować takiego\n",
    "\n",
    "> Karni żołnierze mają kodeks, którego przekroczenie powoduje karę, a za jakiś czas nawet\n",
    "morderstwo ."
   ]
  },
  {
   "cell_type": "code",
   "execution_count": 62,
   "metadata": {},
   "outputs": [],
   "source": [
    "import csv\n",
    "import logging\n",
    "from collections import defaultdict\n",
    "from bisect import bisect\n",
    "from itertools import chain"
   ]
  },
  {
   "cell_type": "code",
   "execution_count": 2,
   "metadata": {},
   "outputs": [],
   "source": [
    "BASE_FORMS_FILE_PATH = 'data/polimorfologik-2.1.txt'\n",
    "WIKI_ARTICLES_FILE_PATH = 'data/fp_wiki.txt'"
   ]
  },
  {
   "cell_type": "code",
   "execution_count": 3,
   "metadata": {},
   "outputs": [],
   "source": [
    "BASE_FORMS = {}\n",
    "\n",
    "with open(BASE_FORMS_FILE_PATH) as f:\n",
    "    for base_form, word, *_ in csv.reader(f, delimiter=';'):\n",
    "        BASE_FORMS[word.lower()] = base_form"
   ]
  },
  {
   "cell_type": "code",
   "execution_count": 4,
   "metadata": {},
   "outputs": [],
   "source": [
    "def base(word):\n",
    "    return BASE_FORMS.get(word.lower())"
   ]
  },
  {
   "cell_type": "code",
   "execution_count": 5,
   "metadata": {},
   "outputs": [],
   "source": [
    "POSITION_BY_ID = []\n",
    "WIKI_ARTICLES = []\n",
    "POSITIONAL_INDEX = defaultdict(set)\n",
    "\n",
    "with open(WIKI_ARTICLES_FILE_PATH) as f:\n",
    "    lines = iter(f)\n",
    "    position = 0\n",
    "    try:\n",
    "        while True:\n",
    "            POSITION_BY_ID.append(position)\n",
    "            _title_with_prefix = next(lines)\n",
    "            title = next(lines).split()\n",
    "            for word in title:\n",
    "                POSITIONAL_INDEX[base(word)].add(position)\n",
    "                position += 1\n",
    "            text = []\n",
    "            while sentence := next(lines).split():\n",
    "                for word in sentence:\n",
    "                    POSITIONAL_INDEX[base(word)].add(position)\n",
    "                    position += 1\n",
    "                text.extend(sentence)\n",
    "            WIKI_ARTICLES.append((title, text))\n",
    "    except StopIteration:\n",
    "        pass"
   ]
  },
  {
   "cell_type": "code",
   "execution_count": 6,
   "metadata": {},
   "outputs": [],
   "source": [
    "def get_id(position):\n",
    "    return bisect(POSITION_BY_ID, position) - 1"
   ]
  },
  {
   "cell_type": "code",
   "execution_count": 7,
   "metadata": {},
   "outputs": [],
   "source": [
    "def find_by_phrase(base_phrase):\n",
    "    positions = set.intersection(*(\n",
    "        {position - offset for position in POSITIONAL_INDEX[word]}\n",
    "        for offset, word in enumerate(base_phrase)\n",
    "    ))\n",
    "    articles_hits = {}\n",
    "    for position in positions:\n",
    "        id_ = get_id(position)\n",
    "        title, text = WIKI_ARTICLES[id_]\n",
    "        start = POSITION_BY_ID[id_]\n",
    "        if id_ not in articles_hits:\n",
    "            articles_hits[id_] = (title, []), (text, [])\n",
    "        hit = position - start\n",
    "        if hit < len(title):\n",
    "            articles_hits[id_][0][1].append(hit)\n",
    "        else:\n",
    "            articles_hits[id_][1][1].append(hit - len(title))\n",
    "    return [\n",
    "        (id_, title, text)\n",
    "        for id_, (title, text) in articles_hits.items()\n",
    "    ]"
   ]
  },
  {
   "cell_type": "code",
   "execution_count": 8,
   "metadata": {},
   "outputs": [],
   "source": [
    "def find_by_query(base_query):\n",
    "    ids = set.intersection(*(\n",
    "        {get_id(position) for position in POSITIONAL_INDEX[word]}\n",
    "        for word in base_query\n",
    "    ))\n",
    "    \n",
    "    queryset = set(base_query)\n",
    "    results = []\n",
    "    for id_ in ids:\n",
    "        title, text = WIKI_ARTICLES[id_]\n",
    "        results.append((\n",
    "            id_,\n",
    "            (title, [i for i, word in enumerate(title) if base(word) in queryset]),\n",
    "            (text, [i for i, word in enumerate(text) if base(word) in queryset]),\n",
    "        ))\n",
    "    return results"
   ]
  },
  {
   "cell_type": "code",
   "execution_count": 9,
   "metadata": {},
   "outputs": [],
   "source": [
    "def find_articles(query, phrasal):\n",
    "    base_query = [base(word) for word in query]\n",
    "    if not all(base_query):\n",
    "        raise ValueError(f'Could not find all base forms for \"{query}\"')\n",
    "    return (find_by_phrase if phrasal else find_by_query)(base_query)"
   ]
  },
  {
   "cell_type": "code",
   "execution_count": 69,
   "metadata": {},
   "outputs": [],
   "source": [
    "TITLE_HITS_MODIFIER = 10\n",
    "EXACT_MATCH_MODIFIER = 5\n",
    "PHRASAL_MATCH_MODIFIER = 3\n",
    "ARTICLE_ID_MODIFIER = -0.00001\n",
    "\n",
    "\n",
    "def find_phrasal_matches(title, text, query):\n",
    "    phrasal_matches = 0\n",
    "    for i in range(len(query) - 1):\n",
    "        for phrase in query[:i], query[i:]:\n",
    "            window_size = len(phrase)\n",
    "            if window_size <= 1:\n",
    "                continue\n",
    "            base_phrase = [base(word) for word in phrase]\n",
    "            window = zip(*(\n",
    "                [*title, *text][k:]\n",
    "                for k in range(window_size)\n",
    "            ))\n",
    "            for words in window:\n",
    "                base_words = [base(word) for word in words]\n",
    "                if base_words == base_phrase:\n",
    "                    phrasal_matches += 1\n",
    "    return phrasal_matches\n",
    "\n",
    "\n",
    "def score(result, query):\n",
    "    id_, (title, title_hits), (text, _) = result\n",
    "    exact_matches = len([\n",
    "        qword for qword in query\n",
    "        if qword.lower() in {word.lower() for word in chain(title, text)}\n",
    "    ])\n",
    "    phrasal_matches = find_phrasal_matches(title, text, query)\n",
    "            \n",
    "    return (\n",
    "        len(title_hits) * TITLE_HITS_MODIFIER\n",
    "        + exact_matches * EXACT_MATCH_MODIFIER\n",
    "        + phrasal_matches * PHRASAL_MATCH_MODIFIER\n",
    "        + id_ * ARTICLE_ID_MODIFIER\n",
    "    )\n",
    "\n",
    "def rank_results(results, query):\n",
    "    scored = [(result, score(result, query)) for result in results]\n",
    "    return sorted(scored, key=lambda rs: rs[1], reverse=True)"
   ]
  },
  {
   "cell_type": "code",
   "execution_count": 70,
   "metadata": {},
   "outputs": [],
   "source": [
    "def highlight(text):\n",
    "    return f'\\033[1m\\033[34m{text}\\033[m'\n",
    "\n",
    "\n",
    "def display(result, score, query_length):\n",
    "    id_, (title, title_hits), (text, text_hits) = result\n",
    "    title_copy = title[:]\n",
    "    text_copy = text[:]\n",
    "    for hit in title_hits:\n",
    "        title_copy[hit : hit + query_length] = [\n",
    "            highlight(title_copy[hit + offset]) for offset in range(query_length)\n",
    "        ]\n",
    "    for hit in text_hits:\n",
    "        text_copy[hit : hit + query_length] = [\n",
    "            highlight(text_copy[hit + offset]) for offset in range(query_length)\n",
    "        ]\n",
    "    return f\"{highlight(score)} {' '.join(title_copy)}\\n{' '.join(text_copy)}\\n\\n\"\n",
    "    \n",
    "\n",
    "def search(query_raw, max_num_results=10):\n",
    "    if query_raw.startswith('\"') and query_raw.endswith('\"'):\n",
    "        query_raw = query_raw[1:-1]\n",
    "        phrasal = True\n",
    "    else:\n",
    "        phrasal = False\n",
    "    \n",
    "    query = query_raw.split()\n",
    "    results = find_articles(query, phrasal)\n",
    "    ranking = rank_results(results, query)\n",
    "    for (result, score), _ in zip(ranking, range(max_num_results)):\n",
    "        print(display(result, score, len(query) if phrasal else 1))"
   ]
  },
  {
   "cell_type": "code",
   "execution_count": 72,
   "metadata": {},
   "outputs": [
    {
     "name": "stdout",
     "output_type": "stream",
     "text": [
      "\u001b[1m\u001b[34m16.19783\u001b[m Aborcja w Chile\n",
      "W Chile obowiązuje od roku 1989 całkowity zakaz aborcji ( art . 342-345 \u001b[1m\u001b[34mKodeksu\u001b[m \u001b[1m\u001b[34mkarnego\u001b[m oraz art . 119 \u001b[1m\u001b[34mKodeksu\u001b[m służby zdrowia ) . W latach 1967-1989 była ona legalna , gdy ciąża była zagrożeniem dla życia matki . Znowelizowany \u001b[1m\u001b[34mKodeks\u001b[m służby zdrowia wszedł w życie w 1991 roku . 21 listopada 2006 Izba Deputowanych odrzuciła projekt liberalizacji przepisów . Od 1988 roku wielokrotnie próbowano – również bez rezultatu – zwiększyć \u001b[1m\u001b[34mkary\u001b[m \u001b[1m\u001b[34mza\u001b[m nielegalną aborcję , zrównując je z tymi \u001b[1m\u001b[34mza\u001b[m \u001b[1m\u001b[34mmorderstwo\u001b[m i dzieciobójstwo .\n",
      "\n",
      "\n",
      "\u001b[1m\u001b[34m16.151510000000002\u001b[m Aborcja na Malcie\n",
      "Według stanu na 2003 rok maltańskie ustawodawstwo przewiduje całkowity zakaz aborcji ( art . 241-243A \u001b[1m\u001b[34mkodeksu\u001b[m \u001b[1m\u001b[34mkarnego\u001b[m ) . Prawo to wprowadzono w 1981 roku - wcześniej przerywanie ciąży było legalne z powodu ścisłych wskazań medycznych . Maltańskie przepisy są najbardziej restrykcyjne w Unii Europejskiej . \u001b[1m\u001b[34mZa\u001b[m wykonanie aborcji grozi \u001b[1m\u001b[34mkara\u001b[m od osiemnastu miesięcy do trzech lat więzienia . Tej samej karze podlega kobieta ciężarna . Jeśli skutkiem aborcji jest śmierć kobiety ciężarnej lub ciężki uszczerbek na jej zdrowiu odpowiedzialność \u001b[1m\u001b[34mkarna\u001b[m jest równa tej \u001b[1m\u001b[34mza\u001b[m \u001b[1m\u001b[34mmorderstwo\u001b[m lub okaleczenie . Farmaceucie lub pracownikowi służby zdrowia \u001b[1m\u001b[34mza\u001b[m przepisanie lub sprzedanie leków , \u001b[1m\u001b[34mza\u001b[m pomocą których można dokonać aborcji , grozi \u001b[1m\u001b[34mkara\u001b[m od osiemnastu miesięcy do czterech lat więzienia . \u001b[1m\u001b[34mZa\u001b[m nieumyślne spowodowanie poronienia grozi do sześciu miesięcy więzienia lub grzywna do tysiąca lir .\n",
      "\n",
      "\n",
      "\u001b[1m\u001b[34m12.680019999999999\u001b[m Rozwód po włosku\n",
      "Rozwód po włosku ( wł . `` Divorzio all'italiana '' ) – włoska komedia filmowa z 1961 roku w reżyserii Pietro Germiego , nagrodzona m.in . Oscarem \u001b[1m\u001b[34mza\u001b[m najlepszy scenariusz oryginalny . Ferdinando to sycylijski arystokrata w średnim wieku , który ma już serdecznie dość swojej żony , \u001b[1m\u001b[34mza\u001b[m to z pożądaniem patrzy na swoją młodą kuzynkę . Sęk w tym , że ówczesne włoskie prawo nie dopuszczało rozwodów . Z drugiej strony , w \u001b[1m\u001b[34mkodeksie\u001b[m \u001b[1m\u001b[34mkarnym\u001b[m istniał przepis przewidujący nadzwyczajne złagodzenie \u001b[1m\u001b[34mkary\u001b[m \u001b[1m\u001b[34mza\u001b[m \u001b[1m\u001b[34mmorderstwo\u001b[m , jeśli dopuścił się go mąż , który przyłapał swoją żoną na zdradzie . Ferdinando postanawia więc ukartować zdradę w wykonaniu swojej żony , aby móc zabić ją i nie ponieść poważniejszej \u001b[1m\u001b[34mkary\u001b[m .\n",
      "\n",
      "\n"
     ]
    }
   ],
   "source": [
    "search('kodeks karny kara za morderstwo')"
   ]
  },
  {
   "cell_type": "code",
   "execution_count": null,
   "metadata": {},
   "outputs": [],
   "source": []
  }
 ],
 "metadata": {
  "kernelspec": {
   "display_name": "Python 3",
   "language": "python",
   "name": "python3"
  },
  "language_info": {
   "codemirror_mode": {
    "name": "ipython",
    "version": 3
   },
   "file_extension": ".py",
   "mimetype": "text/x-python",
   "name": "python",
   "nbconvert_exporter": "python",
   "pygments_lexer": "ipython3",
   "version": "3.8.1"
  }
 },
 "nbformat": 4,
 "nbformat_minor": 4
}
