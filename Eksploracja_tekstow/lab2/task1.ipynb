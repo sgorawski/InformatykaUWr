{
 "cells": [
  {
   "cell_type": "markdown",
   "metadata": {},
   "source": [
    "**Zadanie 1. (8p)** Napisz program MCR (Mistrz Ciętej Riposty), który umożliwia przeprowadzenia\n",
    "dialogu człowieka z komputerem, w którym wypowiedzi komputera są\n",
    "\n",
    "a) wzięte z wikicytatów,\n",
    "\n",
    "b) pasujące w pewnym stopniu do wypowiedzi przedmówcy.\n",
    "\n",
    "Należy zaproponować podział dłuższych cytatów na „minicytaty”, które będą potencjalnymi\n",
    "odpowiedziami. Program dodatkowo powinien:\n",
    "\n",
    "1. tworzyć sobie wewnętrzny ranking pasujących wypowiedzi do danego pytania,\n",
    "2. losować odpowiedź w ten sposób, by odpowiedzi na szczycie rankingu miały dużo większą\n",
    "szansę być wylosowanymi (losowanie powinno być możliwe do wyłączenia, w tej wersji odpowiedź jest po prostu liderem rankingu)\n",
    "3. korzystać z prostego stemmera lub lematyzacji,\n",
    "4. (generalnie) nie powtarzać wypowiedzi w ramach jednego dialogu,\n",
    "5. pilnować, by wypowiedź nie była nigdy kopią (lub prawie kopią) wypowiedzi poprzedzającej\n",
    "6. reagować jakimś ogólnym cytatem w przypadku nieznalezienia niczego pasującego\n",
    "7. unikać takich słów jak on, go, ich, których znaczenie zależy od kontekstu.\n",
    "\n",
    "Przykładowe dialogi hipotetycznego MCR-a znajdują się na SKOS-ie. Do tworzenia Mistrza\n",
    "Ciętej Riposty jeszcze wrócimy na kolejnych listach."
   ]
  },
  {
   "cell_type": "code",
   "execution_count": 1,
   "metadata": {},
   "outputs": [],
   "source": [
    "import csv\n",
    "import random\n",
    "from collections import defaultdict"
   ]
  },
  {
   "cell_type": "code",
   "execution_count": 2,
   "metadata": {},
   "outputs": [],
   "source": [
    "BASE_FORMS_FILE_PATH = 'data/polimorfologik-2.1.txt'\n",
    "TOKENIZED_QUOTES_FILE_PATH = 'data/tokenized_quotes.txt'"
   ]
  },
  {
   "cell_type": "markdown",
   "metadata": {},
   "source": [
    "# Search engine\n",
    "\n",
    "Taken mostly verbatim from _remote-lab1_"
   ]
  },
  {
   "cell_type": "code",
   "execution_count": 3,
   "metadata": {},
   "outputs": [],
   "source": [
    "BASE_FORMS = {}\n",
    "\n",
    "with open(BASE_FORMS_FILE_PATH) as f:\n",
    "    for base_form, word, *_ in csv.reader(f, delimiter=';'):\n",
    "        BASE_FORMS[word] = base_form"
   ]
  },
  {
   "cell_type": "code",
   "execution_count": 24,
   "metadata": {},
   "outputs": [],
   "source": [
    "def base(words):\n",
    "    result = set()\n",
    "    for word in words:\n",
    "        if base_form := BASE_FORMS.get(word):\n",
    "            result.add(base_form)\n",
    "    return result"
   ]
  },
  {
   "cell_type": "code",
   "execution_count": 25,
   "metadata": {},
   "outputs": [],
   "source": [
    "QUOTES = []\n",
    "INDEX = defaultdict(set)\n",
    "\n",
    "with open(TOKENIZED_QUOTES_FILE_PATH) as f:\n",
    "    i = 0\n",
    "    for line in f:\n",
    "        quotes = line.replace('?', '.').replace('!', '.').split('.')\n",
    "        for quote in quotes:\n",
    "            words = quote.split()\n",
    "            if not words:\n",
    "                continue\n",
    "            QUOTES.append(words)\n",
    "            for base_ in base(words):\n",
    "                INDEX[base_].add(i)\n",
    "            i += 1"
   ]
  },
  {
   "cell_type": "code",
   "execution_count": 26,
   "metadata": {},
   "outputs": [],
   "source": [
    "def find_quotes(query):\n",
    "    # Not intersection here, because it's for a chat bot\n",
    "    # I presume it could find nothing for most inputs\n",
    "    quote_ids = set.union(*(INDEX[qword] for qword in base(query)))\n",
    "    return [QUOTES[id_] for id_ in quote_ids]"
   ]
  },
  {
   "cell_type": "markdown",
   "metadata": {},
   "source": [
    "# Chat bot"
   ]
  },
  {
   "cell_type": "code",
   "execution_count": 29,
   "metadata": {},
   "outputs": [],
   "source": [
    "RANDOM = False\n",
    "USED_RESPONSES = []\n",
    "FORBIDDEN_WORDS = {'go', 'on', 'ich'}\n",
    "\n",
    "EXACT_MATCH_MODIFIER = 5\n",
    "BASE_FORM_MATCH_MODIFIER = 5\n",
    "FORBIDDEN_WORD_MODIFIER = -10\n",
    "\n",
    "def score(resp, user_input):\n",
    "    if resp in USED_RESPONSES:\n",
    "        return -1000\n",
    "    if resp == user_input:\n",
    "        return -1000\n",
    "    exact_matches = len([\n",
    "        uword for uword in user_input\n",
    "        if uword in resp\n",
    "    ])\n",
    "    base_form_matches = len([\n",
    "        buword for buword in base(user_input)\n",
    "        if buword in base(resp)\n",
    "    ])\n",
    "    forbidden_words = len([\n",
    "        rword for rword in resp\n",
    "        if rword in FORBIDDEN_WORDS\n",
    "    ])\n",
    "    return (\n",
    "        exact_matches * EXACT_MATCH_MODIFIER\n",
    "        + base_form_matches * BASE_FORM_MATCH_MODIFIER\n",
    "        + forbidden_words * FORBIDDEN_WORD_MODIFIER\n",
    "    )\n",
    "\n",
    "def rank_responses(responses, user_input):\n",
    "    return [(resp, score(resp, user_input)) for resp in responses]\n",
    "\n",
    "def choose_resp(ranked_responses):\n",
    "    if RANDOM:\n",
    "        resps, scores = zip(*ranked_responses_responses)\n",
    "        resp = random.choices(resps, weights=scores)[0]\n",
    "    else:\n",
    "        resp = max(ranked_responses, key=lambda rs: rs[1])[0]\n",
    "    USED_RESPONSES.append(resp)\n",
    "    return resp"
   ]
  },
  {
   "cell_type": "code",
   "execution_count": 33,
   "metadata": {},
   "outputs": [
    {
     "name": "stdout",
     "output_type": "stream",
     "text": [
      "> co możesz powiedzieć o teorii kategorii\n",
      "i sam się wciągnąłem… nie lubię o tym mówić , bo co mogę powiedzieć\n",
      "\n",
      "> naprawdę lubisz takie abstrakcyjne rzeczy\n",
      "straszne rzeczy tak naprawdę nie są takie jak na filmie\n",
      "\n",
      "> jakie lubisz filmy z takich które oglądałem\n",
      "życie to jest co innego : twoi rodzice , dom , nachylające się nad tobą twarze , dzieciństwo i młodość , przyjaciele i znajomi , ludzie i uczucia między ludźmi , twoje życie , jaki zawód wybierzesz , jakie książki , filmy , potrawy lubisz , czy spoglądasz nocą w niebo , czy zasypiasz na łące pod kwiatami , czy odurzył cię zapach lasu , co zapamiętasz , twoje życie , kilka osób , kilka przedmiotów , kilka miejsc , żona , dzieci , kilka osób , które kochasz i które ciebie kochają , i żebyś mógł zapewnić im szczęście , widział , jak dorastają , starzeją się , dał , co najlepsze , wziął , co najlepsze , żeby wnuki twoją twarz nad sobą widziały , i żeby tak się domknęło , kilka osób , kilka przedmiotów , kilka miejsc , twoje życie\n",
      "\n",
      "> to nie jest do końca to co chciałem usłyszeć wiesz\n",
      "chciałem pokazać , że to , co strare , nie do końca idealne , też jest piękne\n",
      "\n",
      "> no i co to chyba w takim razie tyle\n",
      "jeśli w katyniu przychodzą na polski cmentarz wojenny i widzą indywidualne tabliczki epitafijne to pytają , a dlaczego po naszej stronie takich nie ma , na co my mówimy , no to chyba jest wasz problem\n",
      "\n"
     ]
    },
    {
     "ename": "KeyboardInterrupt",
     "evalue": "",
     "output_type": "error",
     "traceback": [
      "\u001b[0;31m---------------------------------------------------------------------------\u001b[0m",
      "\u001b[0;31mKeyboardInterrupt\u001b[0m                         Traceback (most recent call last)",
      "\u001b[0;32m~/education/text-mining/venv/lib/python3.8/site-packages/ipykernel/kernelbase.py\u001b[0m in \u001b[0;36m_input_request\u001b[0;34m(self, prompt, ident, parent, password)\u001b[0m\n\u001b[1;32m    883\u001b[0m             \u001b[0;32mtry\u001b[0m\u001b[0;34m:\u001b[0m\u001b[0;34m\u001b[0m\u001b[0;34m\u001b[0m\u001b[0m\n\u001b[0;32m--> 884\u001b[0;31m                 \u001b[0mident\u001b[0m\u001b[0;34m,\u001b[0m \u001b[0mreply\u001b[0m \u001b[0;34m=\u001b[0m \u001b[0mself\u001b[0m\u001b[0;34m.\u001b[0m\u001b[0msession\u001b[0m\u001b[0;34m.\u001b[0m\u001b[0mrecv\u001b[0m\u001b[0;34m(\u001b[0m\u001b[0mself\u001b[0m\u001b[0;34m.\u001b[0m\u001b[0mstdin_socket\u001b[0m\u001b[0;34m,\u001b[0m \u001b[0;36m0\u001b[0m\u001b[0;34m)\u001b[0m\u001b[0;34m\u001b[0m\u001b[0;34m\u001b[0m\u001b[0m\n\u001b[0m\u001b[1;32m    885\u001b[0m             \u001b[0;32mexcept\u001b[0m \u001b[0mException\u001b[0m\u001b[0;34m:\u001b[0m\u001b[0;34m\u001b[0m\u001b[0;34m\u001b[0m\u001b[0m\n",
      "\u001b[0;32m~/education/text-mining/venv/lib/python3.8/site-packages/jupyter_client/session.py\u001b[0m in \u001b[0;36mrecv\u001b[0;34m(self, socket, mode, content, copy)\u001b[0m\n\u001b[1;32m    812\u001b[0m         \u001b[0;32mtry\u001b[0m\u001b[0;34m:\u001b[0m\u001b[0;34m\u001b[0m\u001b[0;34m\u001b[0m\u001b[0m\n\u001b[0;32m--> 813\u001b[0;31m             \u001b[0mmsg_list\u001b[0m \u001b[0;34m=\u001b[0m \u001b[0msocket\u001b[0m\u001b[0;34m.\u001b[0m\u001b[0mrecv_multipart\u001b[0m\u001b[0;34m(\u001b[0m\u001b[0mmode\u001b[0m\u001b[0;34m,\u001b[0m \u001b[0mcopy\u001b[0m\u001b[0;34m=\u001b[0m\u001b[0mcopy\u001b[0m\u001b[0;34m)\u001b[0m\u001b[0;34m\u001b[0m\u001b[0;34m\u001b[0m\u001b[0m\n\u001b[0m\u001b[1;32m    814\u001b[0m         \u001b[0;32mexcept\u001b[0m \u001b[0mzmq\u001b[0m\u001b[0;34m.\u001b[0m\u001b[0mZMQError\u001b[0m \u001b[0;32mas\u001b[0m \u001b[0me\u001b[0m\u001b[0;34m:\u001b[0m\u001b[0;34m\u001b[0m\u001b[0;34m\u001b[0m\u001b[0m\n",
      "\u001b[0;32m~/education/text-mining/venv/lib/python3.8/site-packages/zmq/sugar/socket.py\u001b[0m in \u001b[0;36mrecv_multipart\u001b[0;34m(self, flags, copy, track)\u001b[0m\n\u001b[1;32m    474\u001b[0m         \"\"\"\n\u001b[0;32m--> 475\u001b[0;31m         \u001b[0mparts\u001b[0m \u001b[0;34m=\u001b[0m \u001b[0;34m[\u001b[0m\u001b[0mself\u001b[0m\u001b[0;34m.\u001b[0m\u001b[0mrecv\u001b[0m\u001b[0;34m(\u001b[0m\u001b[0mflags\u001b[0m\u001b[0;34m,\u001b[0m \u001b[0mcopy\u001b[0m\u001b[0;34m=\u001b[0m\u001b[0mcopy\u001b[0m\u001b[0;34m,\u001b[0m \u001b[0mtrack\u001b[0m\u001b[0;34m=\u001b[0m\u001b[0mtrack\u001b[0m\u001b[0;34m)\u001b[0m\u001b[0;34m]\u001b[0m\u001b[0;34m\u001b[0m\u001b[0;34m\u001b[0m\u001b[0m\n\u001b[0m\u001b[1;32m    476\u001b[0m         \u001b[0;31m# have first part already, only loop while more to receive\u001b[0m\u001b[0;34m\u001b[0m\u001b[0;34m\u001b[0m\u001b[0;34m\u001b[0m\u001b[0m\n",
      "\u001b[0;32mzmq/backend/cython/socket.pyx\u001b[0m in \u001b[0;36mzmq.backend.cython.socket.Socket.recv\u001b[0;34m()\u001b[0m\n",
      "\u001b[0;32mzmq/backend/cython/socket.pyx\u001b[0m in \u001b[0;36mzmq.backend.cython.socket.Socket.recv\u001b[0;34m()\u001b[0m\n",
      "\u001b[0;32mzmq/backend/cython/socket.pyx\u001b[0m in \u001b[0;36mzmq.backend.cython.socket._recv_copy\u001b[0;34m()\u001b[0m\n",
      "\u001b[0;32m~/education/text-mining/venv/lib/python3.8/site-packages/zmq/backend/cython/checkrc.pxd\u001b[0m in \u001b[0;36mzmq.backend.cython.checkrc._check_rc\u001b[0;34m()\u001b[0m\n",
      "\u001b[0;31mKeyboardInterrupt\u001b[0m: ",
      "\nDuring handling of the above exception, another exception occurred:\n",
      "\u001b[0;31mKeyboardInterrupt\u001b[0m                         Traceback (most recent call last)",
      "\u001b[0;32m<ipython-input-33-a29189ed35d9>\u001b[0m in \u001b[0;36m<module>\u001b[0;34m\u001b[0m\n\u001b[1;32m      1\u001b[0m \u001b[0;32mwhile\u001b[0m \u001b[0;32mTrue\u001b[0m\u001b[0;34m:\u001b[0m\u001b[0;34m\u001b[0m\u001b[0;34m\u001b[0m\u001b[0m\n\u001b[0;32m----> 2\u001b[0;31m     \u001b[0muser_input\u001b[0m \u001b[0;34m=\u001b[0m \u001b[0minput\u001b[0m\u001b[0;34m(\u001b[0m\u001b[0;34m'> '\u001b[0m\u001b[0;34m)\u001b[0m\u001b[0;34m.\u001b[0m\u001b[0msplit\u001b[0m\u001b[0;34m(\u001b[0m\u001b[0;34m)\u001b[0m\u001b[0;34m\u001b[0m\u001b[0;34m\u001b[0m\u001b[0m\n\u001b[0m\u001b[1;32m      3\u001b[0m     \u001b[0mquotes\u001b[0m \u001b[0;34m=\u001b[0m \u001b[0mfind_quotes\u001b[0m\u001b[0;34m(\u001b[0m\u001b[0muser_input\u001b[0m\u001b[0;34m)\u001b[0m\u001b[0;34m\u001b[0m\u001b[0;34m\u001b[0m\u001b[0m\n\u001b[1;32m      4\u001b[0m     \u001b[0mresps\u001b[0m \u001b[0;34m=\u001b[0m \u001b[0mrank_responses\u001b[0m\u001b[0;34m(\u001b[0m\u001b[0mquotes\u001b[0m\u001b[0;34m,\u001b[0m \u001b[0muser_input\u001b[0m\u001b[0;34m)\u001b[0m\u001b[0;34m\u001b[0m\u001b[0;34m\u001b[0m\u001b[0m\n\u001b[1;32m      5\u001b[0m     \u001b[0mresp\u001b[0m \u001b[0;34m=\u001b[0m \u001b[0mchoose_resp\u001b[0m\u001b[0;34m(\u001b[0m\u001b[0mresps\u001b[0m\u001b[0;34m)\u001b[0m\u001b[0;34m\u001b[0m\u001b[0;34m\u001b[0m\u001b[0m\n",
      "\u001b[0;32m~/education/text-mining/venv/lib/python3.8/site-packages/ipykernel/kernelbase.py\u001b[0m in \u001b[0;36mraw_input\u001b[0;34m(self, prompt)\u001b[0m\n\u001b[1;32m    854\u001b[0m                 \u001b[0;34m\"raw_input was called, but this frontend does not support input requests.\"\u001b[0m\u001b[0;34m\u001b[0m\u001b[0;34m\u001b[0m\u001b[0m\n\u001b[1;32m    855\u001b[0m             )\n\u001b[0;32m--> 856\u001b[0;31m         return self._input_request(str(prompt),\n\u001b[0m\u001b[1;32m    857\u001b[0m             \u001b[0mself\u001b[0m\u001b[0;34m.\u001b[0m\u001b[0m_parent_ident\u001b[0m\u001b[0;34m,\u001b[0m\u001b[0;34m\u001b[0m\u001b[0;34m\u001b[0m\u001b[0m\n\u001b[1;32m    858\u001b[0m             \u001b[0mself\u001b[0m\u001b[0;34m.\u001b[0m\u001b[0m_parent_header\u001b[0m\u001b[0;34m,\u001b[0m\u001b[0;34m\u001b[0m\u001b[0;34m\u001b[0m\u001b[0m\n",
      "\u001b[0;32m~/education/text-mining/venv/lib/python3.8/site-packages/ipykernel/kernelbase.py\u001b[0m in \u001b[0;36m_input_request\u001b[0;34m(self, prompt, ident, parent, password)\u001b[0m\n\u001b[1;32m    887\u001b[0m             \u001b[0;32mexcept\u001b[0m \u001b[0mKeyboardInterrupt\u001b[0m\u001b[0;34m:\u001b[0m\u001b[0;34m\u001b[0m\u001b[0;34m\u001b[0m\u001b[0m\n\u001b[1;32m    888\u001b[0m                 \u001b[0;31m# re-raise KeyboardInterrupt, to truncate traceback\u001b[0m\u001b[0;34m\u001b[0m\u001b[0;34m\u001b[0m\u001b[0;34m\u001b[0m\u001b[0m\n\u001b[0;32m--> 889\u001b[0;31m                 \u001b[0;32mraise\u001b[0m \u001b[0mKeyboardInterrupt\u001b[0m\u001b[0;34m\u001b[0m\u001b[0;34m\u001b[0m\u001b[0m\n\u001b[0m\u001b[1;32m    890\u001b[0m             \u001b[0;32melse\u001b[0m\u001b[0;34m:\u001b[0m\u001b[0;34m\u001b[0m\u001b[0;34m\u001b[0m\u001b[0m\n\u001b[1;32m    891\u001b[0m                 \u001b[0;32mbreak\u001b[0m\u001b[0;34m\u001b[0m\u001b[0;34m\u001b[0m\u001b[0m\n",
      "\u001b[0;31mKeyboardInterrupt\u001b[0m: "
     ]
    }
   ],
   "source": [
    "while True:\n",
    "    user_input = input('> ').split()\n",
    "    quotes = find_quotes(user_input)\n",
    "    resps = rank_responses(quotes, user_input)\n",
    "    resp = choose_resp(resps)\n",
    "    print(' '.join(resp), end='\\n\\n')"
   ]
  },
  {
   "cell_type": "code",
   "execution_count": null,
   "metadata": {},
   "outputs": [],
   "source": []
  }
 ],
 "metadata": {
  "kernelspec": {
   "display_name": "Python 3",
   "language": "python",
   "name": "python3"
  },
  "language_info": {
   "codemirror_mode": {
    "name": "ipython",
    "version": 3
   },
   "file_extension": ".py",
   "mimetype": "text/x-python",
   "name": "python",
   "nbconvert_exporter": "python",
   "pygments_lexer": "ipython3",
   "version": "3.8.0"
  }
 },
 "nbformat": 4,
 "nbformat_minor": 4
}
