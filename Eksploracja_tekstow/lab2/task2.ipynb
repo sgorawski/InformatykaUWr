{
 "cells": [
  {
   "cell_type": "markdown",
   "metadata": {},
   "source": [
    "**Zadanie 2. (8p)** W zadaniu tym powinieneś napisać wyszukiwarkę dla Wikipedii. Wymagamy\n",
    "tu oddzielenia procesu indeksowania treści od wyszukiwania, czyli podczas indeksowania powinny\n",
    "powstać listy postingowe, które następnie należy zapisać do bazy danych (lub do pliku). Proces\n",
    "wyszukiwania z kolei powinien startować szybko i wczytywać listy postingowe do pamięci w sposób\n",
    "leniwy (czyli tylko wtedy, gdy któraś jest potrzebna).\n",
    "Wyszukiwarka powinna prezentować wyniki w kolejności uwzględniającej następujące rzeczy:\n",
    "\n",
    "a) Trafienia w tytule są cenniejsze od trafienia poza tytułem\n",
    "\n",
    "b) Trafienia dokładne (kotami-kotami) są cenniejsze od trafienia niedokładnego (czyli zgodności\n",
    "lematu, np. (kotami-kotu).\n",
    "\n",
    "c) Lekko preferowane są dokumenty o mniejszych identyfikatorach (czyli występujące wcześniej w\n",
    "pliku z Wikipedyjką)\n",
    "\n",
    "Do prezentacji wyników wykorzystaj kolory, w celu zwiększenia czytelności. Wyświetlaj zarówno\n",
    "tytuł artykułu, jak i fragment jego treści, zawierający termy z zapytania. Wystarczy, że Twój\n",
    "program zadziała dla zmniejszonej Wikipedii (patrz SKOS)."
   ]
  },
  {
   "cell_type": "code",
   "execution_count": 2,
   "metadata": {},
   "outputs": [],
   "source": [
    "import csv\n",
    "import logging\n",
    "from collections import defaultdict\n",
    "from itertools import chain\n",
    "\n",
    "from redis import Redis"
   ]
  },
  {
   "cell_type": "code",
   "execution_count": 3,
   "metadata": {},
   "outputs": [],
   "source": [
    "logging.basicConfig(level=logging.INFO)\n",
    "DEBUG = True"
   ]
  },
  {
   "cell_type": "code",
   "execution_count": 4,
   "metadata": {},
   "outputs": [],
   "source": [
    "BASE_FORMS_FILE_PATH = 'data/polimorfologik-2.1.txt'\n",
    "WIKI_ARTICLES_FILE_PATH = 'data/fp_wiki.txt'\n",
    "\n",
    "REDIS_DB_URL = 'redis://localhost/0'"
   ]
  },
  {
   "cell_type": "code",
   "execution_count": 7,
   "metadata": {},
   "outputs": [],
   "source": [
    "BASE_FORMS = {}\n",
    "\n",
    "with open(BASE_FORMS_FILE_PATH) as f:\n",
    "    for base_form, word, *_ in csv.reader(f, delimiter=';'):\n",
    "        BASE_FORMS[word.lower()] = base_form"
   ]
  },
  {
   "cell_type": "code",
   "execution_count": 8,
   "metadata": {},
   "outputs": [],
   "source": [
    "WIKI_ARTICLES = []\n",
    "\n",
    "with open(WIKI_ARTICLES_FILE_PATH) as f:\n",
    "    lines = iter(f)\n",
    "    try:\n",
    "        while True:\n",
    "            _title_with_prefix = next(lines)\n",
    "            title = next(lines).split()\n",
    "            text = []\n",
    "            while sentence := next(lines).split():\n",
    "                text.extend(sentence)\n",
    "            WIKI_ARTICLES.append((title, text))\n",
    "    except StopIteration:\n",
    "        pass"
   ]
  },
  {
   "cell_type": "markdown",
   "metadata": {},
   "source": [
    "# Indexer"
   ]
  },
  {
   "cell_type": "code",
   "execution_count": 9,
   "metadata": {},
   "outputs": [],
   "source": [
    "def index_wiki_articles():\n",
    "    index = defaultdict(set)\n",
    "    for id_, (title, text) in enumerate(WIKI_ARTICLES):\n",
    "        for word in chain(title, text):\n",
    "            if base_form := BASE_FORMS.get(word.lower()):\n",
    "                index[base_form].add(id_)\n",
    "    return index"
   ]
  },
  {
   "cell_type": "code",
   "execution_count": 10,
   "metadata": {},
   "outputs": [
    {
     "name": "stderr",
     "output_type": "stream",
     "text": [
      "INFO:root:Indexing Wiki articles\n",
      "INFO:root:Saving index to Redis\n",
      "INFO:root:Saved 10000 posting lists\n",
      "INFO:root:Saved 20000 posting lists\n",
      "INFO:root:Saved 30000 posting lists\n",
      "INFO:root:Saved 40000 posting lists\n",
      "INFO:root:Saved 50000 posting lists\n",
      "INFO:root:Saved 60000 posting lists\n",
      "INFO:root:Saved 70000 posting lists\n",
      "INFO:root:Saved 80000 posting lists\n",
      "INFO:root:Saved 90000 posting lists\n",
      "INFO:root:Saved 100000 posting lists\n",
      "INFO:root:Saved 110000 posting lists\n"
     ]
    }
   ],
   "source": [
    "logging.info('Indexing Wiki articles')\n",
    "index = index_wiki_articles()\n",
    "logging.info('Saving index to Redis')\n",
    "with Redis.from_url(REDIS_DB_URL) as r:\n",
    "    for i, (base_form, article_ids) in enumerate(index.items()):\n",
    "        posting_list = ','.join(str(id_) for id_ in article_ids)\n",
    "        r.set(base_form, posting_list)\n",
    "        if i > 0 and i % 10_000 == 0:\n",
    "            logging.info(f'Saved {i} posting lists')"
   ]
  },
  {
   "cell_type": "markdown",
   "metadata": {},
   "source": [
    "# Search engine"
   ]
  },
  {
   "cell_type": "code",
   "execution_count": 11,
   "metadata": {},
   "outputs": [],
   "source": [
    "def base(words):\n",
    "    try:\n",
    "        return {BASE_FORMS[word.lower()] for word in words}\n",
    "    except KeyError as e:\n",
    "        raise ValueError(f'No base form for \"{e.args[0]}\"')"
   ]
  },
  {
   "cell_type": "code",
   "execution_count": 12,
   "metadata": {},
   "outputs": [],
   "source": [
    "def find_articles(query):\n",
    "    base_query = base(query)\n",
    "    with Redis.from_url(REDIS_DB_URL) as r:\n",
    "        posting_lists = r.mget(base_query)\n",
    "    article_ids = set.intersection(*(\n",
    "        {int(id_) for id_ in plist.decode().split(',')}\n",
    "        for plist in posting_lists\n",
    "    ))\n",
    "    \n",
    "    results = []\n",
    "    for id_ in article_ids:\n",
    "        title, text = WIKI_ARTICLES[id_]\n",
    "        title_indices = [\n",
    "            i for i, word in enumerate(title)\n",
    "            if BASE_FORMS.get(word.lower()) in base_query\n",
    "        ]\n",
    "        text_indices = [\n",
    "            i for i, word in enumerate(text)\n",
    "            if BASE_FORMS.get(word.lower()) in base_query\n",
    "        ]\n",
    "        results.append((id_, (title, title_indices), (text, text_indices)))\n",
    "    return results"
   ]
  },
  {
   "cell_type": "code",
   "execution_count": 13,
   "metadata": {},
   "outputs": [],
   "source": [
    "TITLE_HITS_MODIFIER = 10\n",
    "EXACT_MATCH_MODIFIER = 5\n",
    "ARTICLE_ID_MODIFIER = -0.00001\n",
    "\n",
    "def score(result, query):\n",
    "    id_, (title, title_indices), (text, _) = result\n",
    "    title_hits = len(title_indices)\n",
    "    exact_matches = len([\n",
    "        qword for qword in query\n",
    "        if qword.lower() in {word.lower() for word in chain(title, text)}\n",
    "    ])\n",
    "    return (\n",
    "        title_hits * TITLE_HITS_MODIFIER\n",
    "        + exact_matches * EXACT_MATCH_MODIFIER\n",
    "        + id_ * ARTICLE_ID_MODIFIER\n",
    "    )"
   ]
  },
  {
   "cell_type": "code",
   "execution_count": 14,
   "metadata": {},
   "outputs": [],
   "source": [
    "def rank_results(results, query):\n",
    "    scored = [(result, score(result, query)) for result in results]\n",
    "    return sorted(scored, key=lambda rs: rs[1], reverse=True)"
   ]
  },
  {
   "cell_type": "code",
   "execution_count": 15,
   "metadata": {},
   "outputs": [],
   "source": [
    "def highlight(text):\n",
    "    return f'\\033[1m\\033[34m{text}\\033[m'"
   ]
  },
  {
   "cell_type": "code",
   "execution_count": 16,
   "metadata": {},
   "outputs": [],
   "source": [
    "def display_result(result, score):\n",
    "    _, (title, title_indices), (text, text_indices) = result\n",
    "    for i in title_indices:\n",
    "        title[i] = highlight(title[i])\n",
    "    for i in text_indices:\n",
    "        text[i] = highlight(text[i])\n",
    "    return f\"{highlight(score)} {' '.join(title)}\\n{' '.join(text)}\\n\""
   ]
  },
  {
   "cell_type": "code",
   "execution_count": 17,
   "metadata": {},
   "outputs": [],
   "source": [
    "def search(query_raw):\n",
    "    query = query_raw.split()\n",
    "    results = find_articles(query)\n",
    "    for result, score in rank_results(results, query):\n",
    "        print(display_result(result, score))"
   ]
  },
  {
   "cell_type": "code",
   "execution_count": 20,
   "metadata": {},
   "outputs": [
    {
     "name": "stdout",
     "output_type": "stream",
     "text": [
      "\u001b[1m\u001b[34m29.85674\u001b[m \u001b[1m\u001b[34mProgramowanie\u001b[m \u001b[1m\u001b[34mlogiczne\u001b[m\n",
      "\u001b[1m\u001b[34mProgramowanie\u001b[m \u001b[1m\u001b[34mlogiczne\u001b[m ( nazywane także \u001b[1m\u001b[34mprogramowaniem\u001b[m w logice lub \u001b[1m\u001b[34mprogramowaniem\u001b[m w języku logiki ) - metoda \u001b[1m\u001b[34mprogramowania\u001b[m , będąca odmianą \u001b[1m\u001b[34mprogramowania\u001b[m deklaratywnego , w której program podawany jest jako pewien zestaw zależności , a obliczenia są dowodem pewnego twierdzenia w oparciu o te zależności . Na przykład chcemy stwierdzić , czy w danym grafie skierowanym istnieje ścieżka z pewnego punktu do pewnego innego punktu . Krawędzie zapisane są relacją edge ( Skąd , Dokąd ) . Nasz program wyglądałby w Prologu tak:\n",
      "\n",
      "\u001b[1m\u001b[34m14.85673\u001b[m \u001b[1m\u001b[34mProgramowanie\u001b[m imperatywne\n",
      "\u001b[1m\u001b[34mProgramowanie\u001b[m imperatywne – paradygmat \u001b[1m\u001b[34mprogramowania\u001b[m , który opisuje proces wykonywania jako sekwencję instrukcji zmieniających stan programu . Podobnie jak tryb rozkazujący w lingwistyce wyraża żądania jakichś czynności do wykonania . Programy imperatywne składają się z ciągu komend do wykonania przez komputer . Rozszerzeniem ( w sensie wbudowanych funkcji ) i rodzajem ( w sensie paradygmatu ) \u001b[1m\u001b[34mprogramowania\u001b[m imperatywnego jest \u001b[1m\u001b[34mprogramowanie\u001b[m proceduralne . \u001b[1m\u001b[34mProgramowanie\u001b[m imperatywne różni się od funkcyjnego czy też \u001b[1m\u001b[34mprogramowania\u001b[m \u001b[1m\u001b[34mlogicznego\u001b[m . W tamtych paradygmatach nie istnieje pojęcie instrukcji ; kładą one bardziej nacisk na to , `` co '' ma zostać wykonane , natomiast nie w jaki sposób , co ma miejsce w przypadku \u001b[1m\u001b[34mprogramowania\u001b[m proceduralnego .\n",
      "\n",
      "\u001b[1m\u001b[34m14.51395\u001b[m Operator ( \u001b[1m\u001b[34mprogramowanie\u001b[m )\n",
      "Operator – konstrukcja językowa jedno- , bądź wieloargumentowa zwracająca wartość . Do podstawowych operatorów , będących elementem większości języków \u001b[1m\u001b[34mprogramowania\u001b[m , należą operatory arytmetyczne : dodawania ( codice_1 ) , odejmowania ( codice_2 ) , mnożenia ( codice_3 ) , dzielenia ( codice_4 ) ; operatory porównania : większe niż ( codice_5 ) , mniejsze niż ( codice_6 ) , większe równe ( codice_7 ) , mniejsze równe ( codice_8 ) , równe ( codice_9 lub codice_10 ) , różne ( codice_11 lub codice_12 ) , a także operatory operacji \u001b[1m\u001b[34mlogicznych\u001b[m , operacji bitowych , przypisań itd . Główne cechy opisujące operator to liczba i typy argumentów , typ wartości zwracanej , wykonywane działanie , priorytet oraz łączność lub jej brak oraz umiejscowienie operatora względem operandów . Dany język posiada swoją listę operatorów wraz z określonymi cechami , mówiącymi o kolejności wykonywania operacji w przypadku , gdy nie zastosowano nawiasów . W niektórych językach można definiować nowe operatory oraz zmieniać priorytety i łączność .\n",
      "\n",
      "\u001b[1m\u001b[34m13.49792\u001b[m \u001b[1m\u001b[34mLogiczny\u001b[m typ danych\n",
      "Typ \u001b[1m\u001b[34mlogiczny\u001b[m , typ boolowski ( ang . `` boolean '' ) – uporządkowany zbiór wartości \u001b[1m\u001b[34mlogicznych\u001b[m , składający się z dokładnie dwóch elementów : prawda ( `` true '' , 1 , + ) i fałsz ( `` false '' , 0 , - ) , wraz z towarzyszącymi im zdefiniowanymi operatorami standardowymi . Nazwa pochodzi od angielskiego pioniera logiki , matematyka George'a Boole'a . Typ \u001b[1m\u001b[34mlogiczny\u001b[m stosuje się jako: Ze względu na to , iż każdą funkcję \u001b[1m\u001b[34mlogiczną\u001b[m da się zapisać funkcją dającą jako wynik liczbę naturalną ( `` fałsz '' - 0 , `` prawda '' - liczba większa od zera ) , zaś operatory \u001b[1m\u001b[34mlogiczne\u001b[m da się zapisać za pomocą mnożenia i dodawania , w niektórych językach \u001b[1m\u001b[34mprogramowania\u001b[m , np . w C ( do C99 ) , typ \u001b[1m\u001b[34mlogiczny\u001b[m nie występował . Są jednak przyczyny , dla których typ \u001b[1m\u001b[34mlogiczny\u001b[m jest stosowany:\n",
      "\n",
      "\u001b[1m\u001b[34m9.96879\u001b[m Prolog ( język \u001b[1m\u001b[34mprogramowania\u001b[m )\n",
      "Prolog ( od francuskiego `` Programmation en Logique '' ) - jeden z najpopularniejszych języków \u001b[1m\u001b[34mprogramowania\u001b[m \u001b[1m\u001b[34mlogicznego\u001b[m . Prolog powstał jako język \u001b[1m\u001b[34mprogramowania\u001b[m służący do automatycznej analizy języków naturalnych , jest jednak językiem ogólnego zastosowania , szczególnie dobrze sprawdzającym się w programach związanych ze sztuczną inteligencją . Prolog w przeciwieństwie do większości popularnych języków jest językiem deklaratywnym . Program w Prologu składa się z faktów oraz reguł wnioskowania . Aby go uruchomić , należy wprowadzić odpowiednie zapytanie .\n",
      "\n",
      "\u001b[1m\u001b[34m6.78881\u001b[m Operator \u001b[1m\u001b[34mlogiczny\u001b[m\n",
      "Operator \u001b[1m\u001b[34mlogiczny\u001b[m w \u001b[1m\u001b[34mprogramowaniu\u001b[m – operator dostępny w określonym języku \u001b[1m\u001b[34mprogramowania\u001b[m ( a także w innych językach komputerowych ) , który działając na argumentach reprezentujących wartości \u001b[1m\u001b[34mlogiczne\u001b[m , w wyniku zwraca również wartość \u001b[1m\u001b[34mlogiczną\u001b[m , realizując podstawowe operacje algebry Boole’a . To jakie operatory \u001b[1m\u001b[34mlogiczne\u001b[m są dostępne w konkretnym języku \u001b[1m\u001b[34mprogramowania\u001b[m zależy od jego składni , a to jakie są zasady ich stosowania , w tym priorytet tych operatorów i kolejność opracowywania argumentów , od przyjętej przez autorów języka lub implementacji konwencji . Zróżnicowany jest również sposób zapisu operatorów \u001b[1m\u001b[34mlogicznych\u001b[m w poszczególnych językach : stosuje się zapis , bądź w postaci słów kluczowych , bądź symboli ( znaku lub znaków nie będących literami ) . Stosowane są operatory \u001b[1m\u001b[34mlogiczne\u001b[m jednoargumentowe – operator negacji , oraz dwuargumentowe – np . suma \u001b[1m\u001b[34mlogiczna\u001b[m , iloczyn \u001b[1m\u001b[34mlogiczny\u001b[m i inne .\n",
      "\n",
      "\u001b[1m\u001b[34m4.44727\u001b[m Merkury ( język \u001b[1m\u001b[34mprogramowania\u001b[m )\n",
      "Mercury to funkcyjny , \u001b[1m\u001b[34mlogiczny\u001b[m język \u001b[1m\u001b[34mprogramowania\u001b[m skierowany w stronę tworzenia oprogramowania codziennego użytku . Mercury jest rozwijany na Uniwersytecie w Melbourne pod opieką Zoltána Somogyi'a . Pierwsza wersja ujrzała światło dzienne 8 kwietnia 1995 roku . Według autora jest to najszybszy język \u001b[1m\u001b[34mlogiczny\u001b[m na świecie . Hello world: Wyliczenie 10. liczby Fibonacciego:\n",
      "\n",
      "\u001b[1m\u001b[34m2.8937899999999996\u001b[m Perforacja\n",
      "Perforacja − otwory wykonane w jakimś materiale , spełniające różne funkcje , np . ułatwienie przesuwania , odrywania , wpinania w segregator , mocowania itp . Perforacja najczęściej używana jest w fotografii i filmie do przesuwu błon światłoczułych , w poligrafii do mocowania płyt offsetowych itp . Początki informatyki i pierwsze komputery używały także perforacji do \u001b[1m\u001b[34mprogramowania\u001b[m procesów obliczeniowych . Takie karty lub taśmy były perforowane równomiernie rozłożonymi otworami w miejscach kodowania , co spełniało zadanie zapisu danych cyfrowych ( np . brak otworu oznaczał \u001b[1m\u001b[34mlogiczne\u001b[m zero , otwór – \u001b[1m\u001b[34mlogiczną\u001b[m jedynkę ) , czyli w efekcie zapisu programu komputowego . Komputer odczytywał taką kartę lub taśmę mechanicznie ( w późniejszych rozwiązaniach optycznie ) , odnajdując miejsca przedziurkowane i odczytywał dane , które uruchamiały w systemie proces obliczeniowy .\n",
      "\n",
      "\u001b[1m\u001b[34m2.7649599999999994\u001b[m Oz ( język \u001b[1m\u001b[34mprogramowania\u001b[m )\n",
      "Oz – wieloparadygmatowy imperatywny , obiektowy , funkcyjny , \u001b[1m\u001b[34mlogiczny\u001b[m język \u001b[1m\u001b[34mprogramowania\u001b[m . Oz został stworzony w 1991 przez Gerta Smolka i grupę jego studentów na Katolickim Uniwersytecie w Lowanium . W 1996 rozwój języka Oz wsparli Seif Haridi i Peter Van Roy z Swedish Institute of Computer Science . Od 1999 prace nad językiem Oz nadzoruje międzynarodowa grupa Mozart Consortium . Oz jest językiem mocno typizowanym , z typizacją dynamiczną , co pozwala na uzyskanie dużej elastyczności programów . Oz pozwala na zapoznanie się z innymi paradygmatami \u001b[1m\u001b[34mprogramowania\u001b[m , dzięki czemu zdobył dość dużą popularność .\n",
      "\n",
      "\u001b[1m\u001b[34m2.64255\u001b[m Instrukcja warunkowa\n",
      "Instrukcja warunkowa jest elementem języka \u001b[1m\u001b[34mprogramowania\u001b[m , które pozwala na wykonanie różnych obliczeń w zależności od tego czy zdefiniowane przez programistę wyrażenie \u001b[1m\u001b[34mlogiczne\u001b[m jest prawdziwe , czy fałszywe . Możliwość warunkowego decydowania o tym , jaki krok zostanie wykonany w dalszej kolejności jest jedną z podstawowych własności współczesnych komputerów – dowolny model obliczeń zdolny do wykonywania algorytmów ( tj . równoważny maszynom Turinga ) musi ją posiadać . W imperatywnych językach \u001b[1m\u001b[34mprogramowania\u001b[m używa się terminu `` instrukcja warunkowa '' , podczas gdy w \u001b[1m\u001b[34mprogramowaniu\u001b[m funkcyjnym preferowane są nazwy `` wyrażenie warunkowe '' lub `` konstrukcja warunkowa '' , gdyż posiadają one inną zasadę działania .\n",
      "\n",
      "\u001b[1m\u001b[34m2.5639299999999996\u001b[m Logel\n",
      "Logel to specjalizowany język \u001b[1m\u001b[34mprogramowania\u001b[m przeznaczony do sterowania procesami sekwencyjnymi . Język ten stosowany był w systemach sterowania procesami przemysłowymi , czasu rzeczywistego i kontrolno-pomiarowymi , w systemie MERA-80 . W języku tym programista-operator budował opis działania układów w oparciu o tablice zależności , wyrażenia \u001b[1m\u001b[34mlogiczne\u001b[m , schematy \u001b[1m\u001b[34mlogiczne\u001b[m itp . Program komputerowy podlegał następnie translacji . Translator języka Logel pracował w systemach zewnętrznych – na komputerach JS EMC . Kod wynikowy był wyprowadzany na taśmę papierową za pomocą perforatora , która następnie służyła do \u001b[1m\u001b[34mprogramowania\u001b[m układów pamięci EPROM systemu MERA-80 .\n",
      "\n",
      "\u001b[1m\u001b[34m0.25192999999999977\u001b[m Z/VM\n",
      "z/VM – system operacyjny działający na komputerach IBM mainframe i oferujący funkcjonalność maszyn wirtualnych . Geneza tego systemu sięga lat sześćdziesiątych XX wieku . Pierwsza wersja nazywała się CP-40 i działała na komputerze IBM 360/40 . Później rozwijany przez IBM pod nazwą VM ( VM/370 , VM/SP , VM/XA , VM/ESA i obecnie z/VM ) . Praca z/VM jest sprzętowo wspomagana przez procesor , co pozwala na osiągnięcie niewielkich narzutów na wydajność maszyny wirtualnej . z/VM pozwala na uruchomienie wielu systemów operacyjnych na jednej rzeczywistej maszynie , mogą to być wszystkie systemy działające na komputerze mainframe czyli : z/OS , z/VM , zTPF , z/VSE , Linux , OpenSolaris . Istnieje również możliwość wielostopniowej wirtualizacji , czyli z/VM uruchamia na wirtualnej maszynie kolejny z/VM , który jest hypervisorem dla kolejnych maszyn wirtualnych . Poszczególne systemy mogą mieć różne wersje . z/VM umożliwia również emulację zasobów fizycznie niedostępnych w danej maszynie , np . pracę trzech procesorów na maszynie jednoprocesorowej . Dodatkowo istnieje `` system operacyjny '' przeznaczony do pracy w maszynie wirtualnej - CMS ( Początkowo nazywany Cambrige Monitor System , później nazwany Conversational Monitor System ) . CMS nie może być uruchomiony na fizycznym procesorze ani w partycji \u001b[1m\u001b[34mlogicznej\u001b[m LPAR . Dla swojej pracy wymaga serwisów oferowanych przez z/VM . Testowanie , produkcja , \u001b[1m\u001b[34mprogramowanie\u001b[m odbywają się fizycznie w jednym komputerze . System może używać procesora kryptograficznego do szyfrowania danych . SSL ( Secure Sockets Layer ) obsługujące TCP/IP , używany jest również system Kerberos , zostało zaimplementowane również obsługę języków \u001b[1m\u001b[34mprogramowania\u001b[m takich jak APL2 , Asembler , C , C++ , COBOL , Fortran , Pascal , PL/I , REXX . z/VM był pierwszą platformą , na której udostępniono język skryptowy REXX .\n",
      "\n",
      "\u001b[1m\u001b[34m-0.022590000000000002\u001b[m Klauzula Horna\n",
      "Klauzula Horna ( ) – klauzula , w której co najwyżej jeden element jest niezanegowany . Przykładami takich klauzul są { p , ¬r , ¬q } i { ¬r , ¬q } . Klauzule Horna zapisuje się zwykle w postaci implikacyjnej: albo w prologowskiej: Klauzule Horna są używane w \u001b[1m\u001b[34mprogramowaniu\u001b[m \u001b[1m\u001b[34mlogicznym\u001b[m ( na przykład w Prologu ) . Wykorzystywane są również do reprezentowania wiedzy w systemach eksperckich ponieważ spełniają ważną właściwość: klauzula jest równoważna\n",
      "\n",
      "\u001b[1m\u001b[34m-0.12055\u001b[m Sterownik PLC\n",
      "PLC ( Programowalny Sterownik \u001b[1m\u001b[34mLogiczny\u001b[m ) ( ang . `` Programmable Logic Controller '' ) – uniwersalne urządzenie mikroprocesorowe przeznaczone do sterowania pracą maszyny lub urządzenia technologicznego . Sterownik PLC musi zostać dopasowany do określonego obiektu sterowania poprzez wprowadzenie do jego pamięci żądanego algorytmu działania obiektu . Cechą charakterystyczną sterowników PLC odróżniającą ten sterownik od innych sterowników komputerowych jest cykliczny obieg pamięci programu . Algorytm jest zapisywany w dedykowanym sterownikowi języku \u001b[1m\u001b[34mprogramowania\u001b[m . Istnieje możliwość zmiany algorytmu przez zmianę zawartości pamięci programu . Sterownik wyposaża się w odpowiednią liczbę układów wejściowych zbierających informacje o stanie obiektu i żądaniach obsługi oraz odpowiednią liczbę i rodzaj układów wyjściowych połączonych z elementami wykonawczymi , sygnalizacyjnymi lub transmisji danych .\n",
      "\n",
      "\u001b[1m\u001b[34m-0.15382\u001b[m \u001b[1m\u001b[34mZmienna\u001b[m wskaźnikowa\n",
      "\u001b[1m\u001b[34mW\u001b[m językach \u001b[1m\u001b[34mprogramowania\u001b[m pozwalających na bezpośredni dostęp do pamięci ( jak np . asembler , C , C++ , Cyclone ) pamięć jest reprezentowana jako jednowymiarowa tablica bajtów – wszystkie \u001b[1m\u001b[34mzmienne\u001b[m ( statyczne i dynamiczne ) są umieszczane \u001b[1m\u001b[34mw\u001b[m tej „tablicy” . Wskaźnik jest indeksem do tej tablicy – najczęściej ów indeks jest jednocześnie \u001b[1m\u001b[34mlogicznym\u001b[m adresem . Zwykle istnieje też specjalny symbol , który określa wskazanie jako puste . \u001b[1m\u001b[34mW\u001b[m językach C , Cyclone jest to NULL , \u001b[1m\u001b[34mw\u001b[m C++ nullptr , \u001b[1m\u001b[34mw\u001b[m Pascalu nil . Wskaźnik taki nie wskazuje na nic ( konkretnie : jego wartość liczbowa jako adresu jest równa 0 ) , gdyż \u001b[1m\u001b[34mw\u001b[m nowoczesnych systemach operacyjnych żaden proces nie ma dostępu do komórki pamięci o adresie 0 , stąd też jest ona wykorzystywana do oznaczenia `` wskazania do niczego '' . Wartość ta służy np . do oznaczania końca listy jednokierunkowej , liści drzewa binarnego itp .\n",
      "\n",
      "\u001b[1m\u001b[34m-0.21664000000000003\u001b[m Literał\n",
      "Literał – jednostka leksykalna reprezentująca ustaloną wartość ( liczbową , tekstową itp . ) wpisaną przez programistę bezpośrednio w danym miejscu w kod programu . Prawie wszystkie języki \u001b[1m\u001b[34mprogramowania\u001b[m mają odpowiednie formy zapisu dla podstawowych wartości takich jak liczby całkowite , liczby zmiennoprzecinkowe , łańcuchy znaków i zazwyczaj dla wartości typu \u001b[1m\u001b[34mlogicznego\u001b[m i znakowego . Niektóre mają także formy zapisu dla elementów typu wyliczeniowego i złożonych wartości jak tablice , rekordy czy obiekty . Poza tym funkcje anonimowe są literałami dla typu funkcyjnego .\n",
      "\n",
      "\u001b[1m\u001b[34m-0.46282000000000006\u001b[m ZX-81\n",
      "ZX-81 – komputer domowy , opracowany i produkowany przez angielską firmę Sinclair Research Ltd. od marca 1981 , wprowadzony na rynek przy znacznym udziale mediów . Był następcą komputera ZX-80 , który odniósł znaczny sukces rynkowy i został sprzedany w liczbie 50 000 sztuk . Komputer zbudowano w oparciu o 4 układy scalone : procesor Z80 , układ \u001b[1m\u001b[34mlogiczny\u001b[m `` Sinclair Computer Logic '' wykonany w technice ULA , 8192-bajtowy ROM , 1024-bajtową pamięć RAM . Układ logiki generował sygnały selekcji pamięci RAM i ROM . Większość elektroniki zaprojektował Jim Westwood , odpowiedzialny również za konstrukcję ZX-80 . Możliwe było przyłączenie zewnętrznych pakietów RAM ( 16 kB w cenie 29,95 GBP ) , maksymalnie do 64 kB z czego dostępne było 56 kB . Oferowane na rynku rozwiązania innych producentów pozwalały zwiększyć pamięć komputera nawet do 1 megabajta , z wykorzystaniem techniki stronicowania pamięci . Złącze rozszerzeń komputera było krawędziowe . ROM zawierał język \u001b[1m\u001b[34mprogramowania\u001b[m Sinclair BASIC , który w odróżnieniu od poprzednika potrafił prowadzić działania na liczbach zmiennoprzecinkowych ( pewne błędy w module matematycznym wyeliminowano dopiero na jesieni 1981 ) .\n",
      "\n",
      "\u001b[1m\u001b[34m-0.9297300000000001\u001b[m Maszyna RAM\n",
      "Maszyna RAM – model abstrakcyjnej maszyny będący odmianą maszyny rejestrowej , bardzo podobnej do maszyny licznikowej , lecz z możliwością niebezpośredniego adresowania jej rejestrów . Model RAM wykorzystywany jest podczas analizy złożoności obliczeniowej algorytmów . Maszyna RAM służy często \u001b[1m\u001b[34mw\u001b[m celu jako wprowadzenie do \u001b[1m\u001b[34mprogramowania\u001b[m oraz pomoc do nauki \u001b[1m\u001b[34mlogicznego\u001b[m rozumowania . Ułatwia wyrobienie dobrych nawyków , np . inicjowania \u001b[1m\u001b[34mzmiennych\u001b[m przed użyciem . Zwykle stosuje się różnego rodzaju emulatory tejże maszyny , które przedstawiają działanie kodu wprowadzonego przez programistę ; często instrukcje maszyny RAM upodabnia się do mnemoników asemblera , np . codice_1 , codice_2 , codice_3 , codice_4 , codice_5 oraz codice_6 .\n",
      "\n",
      "\u001b[1m\u001b[34m-0.9647000000000006\u001b[m Robert Abbott\n",
      "Robert Abbott ( ur . 1933 ) - amerykański wynalazca gier . Abbott był programistą komputerowym we wczesnym okresie komputerów . \u001b[1m\u001b[34mProgramował\u001b[m w asemblerze na maszynach IBM 360 . W 1962 r. zajął się tworzeniem gier . Do jego opublikowanych gier należą m. in . Ultima - odmiana szachów oraz gra karciana `` Eleusis '' oraz labirynty \u001b[1m\u001b[34mlogiczne\u001b[m .\n",
      "\n",
      "\u001b[1m\u001b[34m-3.15872\u001b[m PRS-4\n",
      "PRS-4 – uniwersalny , modułowy minikomputer III generacji o 16-bitowym słowie , zbudowany w oparciu o układy scalone podstawowej ( SSI ) oraz średniej ( MSI ) skali integracji . Prototyp minikomputera , nazwany MKJ-28 , powstał w drugiej połowie 1973 roku w Zakładzie Automatyzacji Powierzchniowej ( CPA ) , który wchodził w skład Zakładów Konstrukcyjno-Mechanizacyjnych Przemysłu Węglowego w Katowicach . Został zaprojektowany w sposób zapewniający pełną \u001b[1m\u001b[34mlogiczną\u001b[m zgodność z rodziną minikomputerów firmy Hewlett-Packard ( HP2114 , HP215 , HP2116 , HP2100 ) . Minikomputer produkowano w Zakładzie Elektroniki Górniczej w Tychach w latach 1975-1987 , początkowo jako SMC-3 ( seria informacyjna licząca 17 egzemplarzy ) , a od 1979 r. , po modernizacji wykonanej przez Zakład Systemów Sterowania ( BS-3 ) , jako PRS-4 ( produkcja seryjna obejmująca ponad 150 egzemplarzy ) . Nazwę minikomputera zmieniono na PRS-4 ( \u001b[1m\u001b[34mProgramowany\u001b[m Rejestrator ) , aby obejść obowiązujące w PRL rozporządzenie pozwalające na produkcję komputerów jedynie przez ELWRO i Zjednoczenie MERA .\n",
      "\n",
      "\u001b[1m\u001b[34m-3.177670000000001\u001b[m Astek\n",
      "Astek ( Analiza STatytstyczna Danych EKsperymentalnych '' , Analiza Statystyczna Eksperymentów '' ) – język \u001b[1m\u001b[34mprogramowania\u001b[m opracowany w Instytucie Maszyn Matematycznych z Warszawy i zrealizowany dla komputerów ZAM-41 pracujących pod systemem operacyjnym stosowanym na tych komputerach : SO-141 . Język przeznaczony był do statystycznej analizy : statycznej i dynamicznej , danych eksperymentalnych . W języku tym dokonywano opisu oraz obróbki danych uzyskanych z rzeczywistego procesu . Można było wykorzystywać metody : regresji , korelacji , analizy widmowej . Na język składał się zbiór instrukcji obejmujący operacje dotyczące działania na zbiorach , operacje arytmetyczne , operacje \u001b[1m\u001b[34mlogiczne\u001b[m umożliwiające między innymi podejmowanie decyzji i selekcji danych pomiarowych , parametrów , czy wariantów analizy , oraz instrukcje specjalne obejmujące elementy analizy statystycznej , w tym między innymi operacje dotyczące wspomnianych wyżej metod analizy , tj . instrukcje : codice_1 , codice_2 , codice_3 ( `` test F. Fishera '' ) , codice_4 ( `` Fast Fourier Transform '' ) , codice_5 i inne . Używany był w Polsce między innymi w instytutach związanych z przemysłem chemicznym .\n",
      "\n",
      "\u001b[1m\u001b[34m-3.2477000000000005\u001b[m AHDL\n",
      "AHDL ( ang . Altera Hardware Description Language ) jest językiem opisu sprzętu ( HDL ) przeznaczonym do \u001b[1m\u001b[34mprogramowania\u001b[m układów FPGA i CPLD firmy Altera . Jest to bardzo prosty język o niskim stopniu abstrakcji przeznaczony głównie do projektowania małych układów . Jest także nauczany na wielu uczelniach wyższych jako wstęp do współcześnie wykorzystywanych \u001b[1m\u001b[34mw\u001b[m przemyśle języków opisu sprzętu takich jak : VHDL i Verilog . Język AHDL umożliwia podział projektu na jednostki ( `` subdesign '' ) , przy czym jedna z tych jednostek pełni rolę nadrzędną ( wykorzystuje pozostałe jednostki ) . Wejścia i wyjścia z jednostki nadrzędnej są wyprowadzane na nogi układu programowalnego . Każda jednostka może zawierać \u001b[1m\u001b[34mw\u001b[m sobie bramki \u001b[1m\u001b[34mlogiczne\u001b[m , przerzutniki oraz inne mniejsze jednostki . Do tworzenia bloków kombinacyjnych zwykle wykorzystuje się instrukcje `` if '' , `` else '' , `` elsif '' , `` case '' , oraz funkcje \u001b[1m\u001b[34mlogiczne\u001b[m `` and '' , `` or '' , `` not '' , ale można również stosować tablice funkcji . Tworzenie przerzutnika wymaga ręcznego zdefiniowania elementu ( zwykle `` DFF '' lub `` DFFE '' ) \u001b[1m\u001b[34mw\u001b[m bloku \u001b[1m\u001b[34mzmiennych\u001b[m jednostki oraz podłączenia sygnałów zegara oraz resetu . AHDL ułatwia tworzenie automatów dzięki konstrukcji `` machine of bits with states '' oraz tabelom przejść i wyjść .\n",
      "\n",
      "\u001b[1m\u001b[34m-3.3680900000000005\u001b[m Maska bitowa\n",
      "Maska bitowa jest słowem o długości odpowiadającej maskowanemu słowu ( zwykle 8 , 16 , 32 bity ) . Stosuje się ją przy \u001b[1m\u001b[34mprogramowaniu\u001b[m w asemblerze , jako maska podsieci i wszędzie tam , gdzie zachodzi potrzeba zmiany określonych bitów . Do nakładania maski używa się operatorów binarnych AND , OR , XOR . Przykład 1: W słowie ośmiobitowym wyzerować 2 najmłodsze bity . Należy użyć operatora AND i maski bitowej . Słowo : 10010111 Maska : 11111100 Wynik : 10010100 Dlaczego ? Otóż AND to tzw . iloczyn \u001b[1m\u001b[34mlogiczny\u001b[m . Iloczyn dowolnej wartości z zerem daje zero , zaś iloczyn dowolnej wartości \u001b[1m\u001b[34mlogicznej\u001b[m z jedynką daje tę samą wartość , tak jak przy zwykłym mnożeniu ( np . 5*0=0 , 7*1=7 ) . Odpowiadające sobie bity maski i słowa są przez siebie wymnażane , każdy z osobna . Te bity słowa , które zostały wymnożone przez 0 zostają wyzerowane , reszta jest nienaruszona .\n",
      "\n",
      "\u001b[1m\u001b[34m-3.8266600000000004\u001b[m MKJ-25\n",
      "MKJ-25 – minikomputer zaprojektowany i produkowany głównie jako podstawa budowy komputerowych systemów sterowania procesami technologicznymi , a także do wykonywania obliczeń numerycznych . Architektura tego komputera oparta była na 16 bitowym słowie maszynowym . Od strony elektronicznej maszyna zrealizowana została w oparciu o technikę układów scalonych klasy TTL . Komputer opracowany został w 1970 roku , w Zakładach Konstrukcyjno – Mechanizacyjnych Przemysłu Węglowego z Gliwic . Zbudowany był w oparciu o szeregowy arytmometr i 6 rejestrów . Lista rozkazów języka maszynowego obejmowała 34 pozycje . Czas wykonania podstawowych operacji \u001b[1m\u001b[34mlogicznych\u001b[m wynosił około 50 μs , a operacji arytmetycznych około 1,25 ms. Współpraca z obiektem odbywała się za pośrednictwem pamięci buforowej . Minikomputer ten stanowił podstawę budowy systemu kompleksowej automatyzacji S , przeznaczony do nadzoru i sterowania procesu technologicznego kopalni głębinowej węgla kamiennego . Po wdrożeniu systemu S w kopalni Jan opracowano system operacyjny SOM dla tego komputera oraz język symboliczny TUZ . Zanim to nastąpiło jego \u001b[1m\u001b[34mprogramowanie\u001b[m odbywało się wyłącznie w języku wewnętrznym .\n",
      "\n",
      "\u001b[1m\u001b[34m-4.268420000000001\u001b[m Unifikacja ( logika )\n",
      "Unifikacja – proces algorytmiczny , za pomocą którego można próbować rozwiązać problem spełnialności . Celem unifikacji jest znalezienie warunku zastępczego , który pokazuje , że dwa warunki pozornie różne są w rzeczywistości albo identyczne , albo po prostu równe . Unifikacja jest szeroko stosowana w rozumowaniu automatycznym , \u001b[1m\u001b[34mprogramowaniu\u001b[m \u001b[1m\u001b[34mlogicznym\u001b[m i wdrażaniu języków \u001b[1m\u001b[34mprogramowania\u001b[m .\n",
      "\n",
      "\u001b[1m\u001b[34m-5.1974\u001b[m Instrukcja strukturalna\n",
      "Instrukcja strukturalna , to instrukcja zdefiniowana \u001b[1m\u001b[34mw\u001b[m składni określonego języka \u001b[1m\u001b[34mprogramowania\u001b[m , zbudowana ze składowych instrukcji prostych i strukturalnych , sterująca przebiegiem realizacji algorytmu . Instrukcja taka budowana jest \u001b[1m\u001b[34mw\u001b[m kodzie źródłowym \u001b[1m\u001b[34mw\u001b[m oparciu o nawiasy syntaktyczne . Do najczęściej spotykanych instrukcji strukturalnych zalicza się: Instrukcje strukturalne , \u001b[1m\u001b[34mw\u001b[m odróżnieniu od instrukcji prostych , nie zlecają wykonania pojedynczej , konkretnej akcji , lecz sterują realizacją grupy instrukcji ujętej \u001b[1m\u001b[34mw\u001b[m \u001b[1m\u001b[34mlogiczną\u001b[m strukturę algorytmu . Instrukcje strukturalne , często również służą do ograniczenia zakresu istnienia , dostępności i przesłaniania pewnych obiektów programu , np . \u001b[1m\u001b[34mzmiennych\u001b[m .\n",
      "\n",
      "\u001b[1m\u001b[34m-5.414350000000001\u001b[m Ljapas\n",
      "Ljapas , LYaPAS ( ros . ЛЯПАС , `` ŁJaPAS '' ; skrót od Логический Язык Программирования Алгоритмов Синтеза дискретных автоматов - `` \u001b[1m\u001b[34mLogiczny\u001b[m Język \u001b[1m\u001b[34mProgramowania\u001b[m Algorytmów Syntezy dyskretnych automatów '' ) – język \u001b[1m\u001b[34mprogramowania\u001b[m , zorientowany na problemy \u001b[1m\u001b[34mlogiczne\u001b[m . Opracował go w latach 60. w Związku Radzieckim Arkadź Zakrewski . Język jest rozszerzeniem języka APL . Motywacją dla jego stworzenia było to , że rozpowszechnione wówczas języki \u001b[1m\u001b[34mprogramowania\u001b[m wysokiego poziomu , takie jak ALGOL i FORTRAN , były zorientowane przede wszystkim na programy obliczeniowe i niezbyt pasowały do opisu algorytmów syntezy \u001b[1m\u001b[34mlogicznej\u001b[m . Translator Ljapas został po raz pierwszy zaprezentowany w roku 1964 . Od początku lat 70. język był rozwijany w Instytucie Cybernetyki Technicznej Akademii Nauk Białorusi . Wtedy powstały m.in . wersje translatora Ljapas dla komputerów rodziny BESM . W roku 1974 powstała znacznie zmieniona wersja języka pod nazwą Ljapas-M. Translator tej wersji został opracowany dla systemów komputerowych Riad , a po latach zaadaptowany dla komputerów osobistych .\n",
      "\n",
      "\u001b[1m\u001b[34m-5.4171900000000015\u001b[m Sequential Function Chart\n",
      "Sequential Function Chart ( SFC ) ( `` Sekwencyjna Karta Funkcji '' ; niem . `` Ablaufsprache ( AS ) '' - `` sekwencyjny język '' ) - graficzny język \u001b[1m\u001b[34mprogramowania\u001b[m dla sterowników PLC . Jest jednym z pięciu języków normy IEC 61131-3 . SFC jest rozwinięciem języka GRAFCET i opiera się na strukturze sieci Petriego . W pakiecie STEP7 koncernu Siemens język ten występuje pod nazwą S7-GRAPH . Program w SFC składa się z `` kroków '' , do których są przypisane akcje , oraz `` przejść '' , łączących kroki . Do przejść są przypisane warunki \u001b[1m\u001b[34mlogiczne\u001b[m . Przejście SFC może mieć jeden lub więcej kroków wejściowych oraz jeden lub więcej kroków wyjściowych . W trakcie wykonania programu każdy krok może być aktywny lub nieaktywny . Jeden lub więcej kroków ( `` kroki inicjujące '' ) są aktywowane przy rozpoczęciu wykonania programu . Kilka kroków może być aktywnych jednocześnie , dzięki czemu SFC pozwala opisywać algorytmy równoległe sterowania \u001b[1m\u001b[34mlogicznego\u001b[m . Jeśli wszystkie kroki wejściowe danego przejścia są aktywne oraz przypisany do niego warunek jest spełniony , wówczas wszystkie kroki wejściowe przestają być aktywne , a wszystkie kroki wyjściowe tego przejścia stają się aktywne .\n",
      "\n",
      "\u001b[1m\u001b[34m-6.5551900000000005\u001b[m PLE ( elektronika )\n",
      "PLE ( ) , programowalna matryca \u001b[1m\u001b[34mlogiczna\u001b[m – układ posiadający programowalną matrycę bramek OR , o konstrukcji podobnej do układu PAL . Prawie wszystkie układy PLE mają wyjścia trójstanowe . Prostsze moduły PLE posiadają 5 wejść i 8 wyjść , natomiast duże – 12 wejść i 8 wyjść . Bardziej rozbudowane struktury PLE są wyposażone w buforowe rejestry wyjściowe , zbudowane z synchronicznych przerzutników typu D z trójstanowymi wyjściami sterownymi bezpośrednio ( asynchronicznie ) lub pośrednio , za pomocą dodatkowego przerzutnika ( synchroniczne ) . Ponadto układy te mają dodatkowe wejścia służące do \u001b[1m\u001b[34mprogramowania\u001b[m tzw . inicjalizacji . Umożliwiają one zapisanie w określonym obszarze matrycy PLE sekwencji 16 słów , a następnie ich wygenerowanie w rejestrze wyjściowym .\n",
      "\n",
      "\u001b[1m\u001b[34m-7.61995\u001b[m Pętla repetycyjna\n",
      "Pętla repetycyjna ( pętla warunkowa ) w \u001b[1m\u001b[34mprogramowaniu\u001b[m , to rodzaj pętli , w której wykonanie kolejnej iteracji uzależnione jest od pewnego , zdefiniowanego przez programistę warunku . Warunek zawarty w definiowanej pętli jest pewnym wyrażeniem , które zwraca wartość typu \u001b[1m\u001b[34mlogicznego\u001b[m ( np . Pascal , Visual Basic , VBA ) . Istnieją języki \u001b[1m\u001b[34mprogramowania\u001b[m , w których składnia nie przewiduje takiego typu danych . W językach tych stosuje się wyrażenia zwracające pewną wartość innego typu , która następnie podlega odpowiedniej interpretacji , np . wartość zero może być utożsamiana z wartością codice_1 typu \u001b[1m\u001b[34mlogicznego\u001b[m , a pozostałe wartości z wartością codice_2 , lub inne rozwiązania ( np . PL/I , C , C++ i pochodne ) . W zależności do tego , czy wartość \u001b[1m\u001b[34mlogiczna\u001b[m , uzyskana w wyniku ewaluacji wyrażenia reprezentującego warunek , jest równa wartości \u001b[1m\u001b[34mlogicznej\u001b[m codice_2 ( prawda ) , czy codice_1 ( fałsz ) , wykonywanie pętli jest kontynuowane , bądź przerywane .\n",
      "\n",
      "\u001b[1m\u001b[34m-8.177520000000001\u001b[m ZAM-GPSS\n",
      "ZAM-GPSS – język \u001b[1m\u001b[34mprogramowania\u001b[m opracowany \u001b[1m\u001b[34mw\u001b[m Instytucie Maszyn Matematycznych z Warszawy i zrealizowany dla komputerów ZAM-41 pracujących pod systemem operacyjnym stosowanym na tych komputerach : SO-141 . Język przeznaczony był do symulowania procesów dyskretnych . Stanowił podzbiór i adaptację dla maszyn ZAM-41 , jednej z implementacji języka GPSS – GPSS/360 opracowanego przez IBM dla systemu komputerowego IBM/360 . Tworzenie programu \u001b[1m\u001b[34mw\u001b[m tym języku polega na definiowaniu pewnego modelu za pomocą boków opisujących czynności jednostkowe zachodzące \u001b[1m\u001b[34mw\u001b[m opisywanym modelu . Tak opracowany model tworzy pewien schemat blokowy z formalnego punktu widzenia stanowiący wzajemnie powiązanych operatorów arytmetycznych i \u001b[1m\u001b[34mlogicznych\u001b[m reprezentujących określone właściwości modelu . \u001b[1m\u001b[34mW\u001b[m modelu takim wyróżnia się grupę wielkości elementarnych oraz pojęć abstrakcyjnych . \u001b[1m\u001b[34mW\u001b[m języku zdefiniowano 13 typów wielkości : bloki , zdania , urządzenia , magazyny , przełączniki \u001b[1m\u001b[34mlogiczne\u001b[m , \u001b[1m\u001b[34mzmienne\u001b[m arytmetyczne , \u001b[1m\u001b[34mzmienne\u001b[m \u001b[1m\u001b[34mlogiczne\u001b[m , funkcje arytmetyczne , funkcje \u001b[1m\u001b[34mlogiczne\u001b[m , kolejki , tablice , pamięci , listy ( zbiory ) . Z każdą wielkością związane są zbiory atrybutów arytmetycznych i \u001b[1m\u001b[34mlogicznych\u001b[m opisujących właściwości i stan tych wielkości \u001b[1m\u001b[34mw\u001b[m funkcji czasu . Proces symulacji jest ciągiem wzajemnie powiązanych i oddziałujących na siebie zdarzeń . \u001b[1m\u001b[34mW\u001b[m wybranej chwili stan modelu zdefiniowany jest natomiast przez wartości atrybutów wszystkich zdefiniowanych \u001b[1m\u001b[34mw\u001b[m modelu wielkości .\n",
      "\n",
      "\u001b[1m\u001b[34m-8.23764\u001b[m Operator relacji\n",
      "Operator relacji w \u001b[1m\u001b[34mprogramowaniu\u001b[m – operator dostępny w określonym języku \u001b[1m\u001b[34mprogramowania\u001b[m ( a także w innych językach komputerowych ) , który działając na podanych argumentach , w wyniku zwraca wartość \u001b[1m\u001b[34mlogiczną\u001b[m , określającą spełnienie bądź nie spełnienie reprezentowanej przez ten operator relacji zachodzącej między zapodanymi argumentami . Wynikiem działania operatora relacji jest więc wartość reprezentująca zgodnie z zasadami obowiązującymi w składni danego języka \u001b[1m\u001b[34mprogramowania\u001b[m jedną z wartości \u001b[1m\u001b[34mlogicznych\u001b[m : prawdę ( true ) lub fałsz ( false ) .\n",
      "\n",
      "\u001b[1m\u001b[34m-8.25853\u001b[m Operator bitowy\n",
      "Operator bitowy w \u001b[1m\u001b[34mprogramowaniu\u001b[m – operator dostępny w określonym języku \u001b[1m\u001b[34mprogramowania\u001b[m ( a także w innych językach komputerowych ) , który , działając na podanych argumentach , realizuje podstawowe operacje algebry Boole’a na pojedynczych bitach lub każdej parze odpowiadających sobie bitów pobieranych z tych samych pozycji dwóch argumentów operatora oraz operacje przesunięć lub obrotów bitowych . To jakie operatory bitowe są dostępne w konkretnym języku \u001b[1m\u001b[34mprogramowania\u001b[m zależy od jego składni , a to jakie są zasady ich stosowania , w tym priorytet tych operatorów i kolejność opracowywania argumentów – od przyjętej przez autorów języka lub implementacji konwencji . Zróżnicowany jest również sposób zapisu operatorów bitowych w poszczególnych językach : stosuje się zapis w postaci słów kluczowych , bądź symboli ( znaku lub znaków nie będących literami ) . Stosowane są operatory bitowe jednoargumentowe – operator negacji – oraz dwuargumentowe – np . suma \u001b[1m\u001b[34mlogiczna\u001b[m , iloczyn \u001b[1m\u001b[34mlogiczny\u001b[m i inne .\n",
      "\n",
      "\u001b[1m\u001b[34m-10.353560000000002\u001b[m Arkadź Zakreuski\n",
      "Arkadź Dzmitryjewicz Zakreuski ( biał . Аркадзь Дзмітрыевіч Закрэўскі , ros . Аркадий Дмитриевич Закревский , `` Arkadij Dmitrijewicz Zakriewski '' ; `` Arkadij D. Zakrevskij '' ur . 22 maja 1928 w Leningradzie , zm . 24 lutego 2014 w Mińsku ) − radziecki i białoruski naukowiec ; cybernetyk , specjalista w dziedzinie projektowania układów cyfrowych , doktor nauk technicznych ( odpowiednik polskiego stopnia doktora habilitowanego ) , członek korespondent Narodowej Akademii Nauk Białorusi . Urodził się w Leningradzie w roku 1928 w rodzinie o pochodzeniu białoruskim . W 1956 roku ukończył Tomski Uniwersytet ; w 1956-1961 był na studiach doktoranckich , od 1959 podjął na tejże uczelni pracę jako wykładowca , pełnił funkcje kierownika laboratorium w Syberyjskim Instytucie Fizyko-Technicznym i kierownika Katedry logiki matematycznej i \u001b[1m\u001b[34mprogramowania\u001b[m na Uniwersytecie Tomskim . Stworzył zespół naukowy , który zajmował się ( jako jeden z pierwszych w Związku Radzieckim ) cybernetyką . Opublikował szereg prac z zakresu syntezy \u001b[1m\u001b[34mlogicznej\u001b[m , opracował język \u001b[1m\u001b[34mprogramowania\u001b[m Ljapas ( LYaPAS ) , przeznaczony do przedstawiania algorytmów \u001b[1m\u001b[34mlogicznych\u001b[m i kombinatorycznych . Zespół pod kierownictwem A.D. Zakreuskiego rozwinął się w jedną z najbardziej znaczących radzieckich szkół naukowych w zakresie cybernetyki .\n",
      "\n",
      "\u001b[1m\u001b[34m-10.68922\u001b[m RuleML Symposium\n",
      "International Web Rule Symposium ( RuleML ) jest corocznym międzynarodowym sympozjum poświęconym badaniom , zastosowaniom , językom i standardom dotyczącym regułowych systemów ekspertowych oraz \u001b[1m\u001b[34mprogramowania\u001b[m \u001b[1m\u001b[34mlogicznego\u001b[m . RuleML jest wiodącą konferencją w dziedzinach Semantic Web , logiki i sztucznej inteligencji łączącą akademickie oraz biznesowe aspekty reguł i ich zastosowania jako części `` stosu semantycznego '' . Historia cyklu RuleML sięga 2002 roku , od kiedy to odbywa się on nieprzerwanie ; z początku jako warsztaty , następnie ( 2005 i 2006 ) jako konferencje , a od 2007 jako międzynarodowe sympozjum .\n",
      "\n",
      "\u001b[1m\u001b[34m-11.722100000000001\u001b[m Datalog\n",
      "Datalog – język zapytań wzorowany na języku Prolog stosowany dla dedukcyjnych baz danych . Oparty jest o metody wnioskowania znane z logik formalnych . Składa się z aksjomatów oraz reguł wnioskowania . Początki Datalogu związane są z początkami \u001b[1m\u001b[34mprogramowania\u001b[m \u001b[1m\u001b[34mlogicznego\u001b[m . Za twórcę terminu Datalog uznawany jest David Maier . Rozwinięciem tego terminu jest określenie `` database logic '' - z ang . `` logika baz danych '' . Nie jest możliwe wskazanie konkretnej grupy twórców samego języka , gdyż w różnych publikacjach pojawiał się jako okrojenie bądź rozszerzenie innych języków i modeli obliczeniowych . Historia Datalogu jako niezależnej dziedziny badań naukowych związana jest z warsztatami poświęconymi logice i bazom danych , które zostały zorganizowane w 1977 roku przez Hervé'a Gallaire i Jacka Minkera\n",
      "\n",
      "\u001b[1m\u001b[34m-11.818940000000001\u001b[m Krzysztof Apt\n",
      "Krzysztof Rafał Apt ( ur . 1949 w Katowicach ) – polski matematyk i informatyk . Specjalizuje się w \u001b[1m\u001b[34mprogramowaniu\u001b[m \u001b[1m\u001b[34mlogicznym\u001b[m , teorii weryfikacji programów i teorii gier . CWI fellow w holenderskim Centrum voor Wiskunde en Informatica oraz profesor ( od 2014 emerytowany ) na Uniwersytecie Amsterdamskim . Współzałożyciel i pierwszy dyrektor administracyjny ( 1982-1984 ) „Zeszytów Literackich '' . W rodzinnych Katowicach ukończył VIII Liceum Ogólnokształcące im . Wilhelma Piecka . Matematykę studiował na Uniwersytecie Wrocławskim . Stopień doktorski uzyskał z logiki matematycznej na Uniwersytecie Warszawskim w 1974 na podstawie pracy pt . `` Niefinestyczne reguły wnioskowania '' przygotowanej pod kierunkiem prof. Andrzeja Stanisława Mostowskiego . Po doktoracie wyemigrował na Zachód . W latach 1991-2014 był profesorem Universiteit van Amsterdam . Poza Amsterdamem pracuje także jako profesor wizytujący Instytutu Informatyki Wydziału Matematyki , Informatyki i Mechaniki Uniwersytetu Warszawskiego .\n",
      "\n"
     ]
    }
   ],
   "source": [
    "search('programowanie logiczne')"
   ]
  },
  {
   "cell_type": "code",
   "execution_count": null,
   "metadata": {},
   "outputs": [],
   "source": []
  }
 ],
 "metadata": {
  "kernelspec": {
   "display_name": "Python 3",
   "language": "python",
   "name": "python3"
  },
  "language_info": {
   "codemirror_mode": {
    "name": "ipython",
    "version": 3
   },
   "file_extension": ".py",
   "mimetype": "text/x-python",
   "name": "python",
   "nbconvert_exporter": "python",
   "pygments_lexer": "ipython3",
   "version": "3.8.0"
  }
 },
 "nbformat": 4,
 "nbformat_minor": 4
}
